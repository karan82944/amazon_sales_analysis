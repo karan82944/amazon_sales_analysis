{
 "cells": [
  {
   "cell_type": "code",
   "execution_count": 2,
   "metadata": {
    "id": "pK7zGY8dSkUW"
   },
   "outputs": [],
   "source": [
    "import pandas as pd\n",
    "import seaborn as sns\n",
    "import matplotlib.pyplot as plt"
   ]
  },
  {
   "cell_type": "markdown",
   "metadata": {
    "id": "bi84Gi8YB8UH"
   },
   "source": [
    "# `EDA Process and Cleaning the data`"
   ]
  },
  {
   "cell_type": "code",
   "execution_count": 3,
   "metadata": {
    "colab": {
     "base_uri": "https://localhost:8080/"
    },
    "id": "6jk49E89TL0w",
    "outputId": "0395ad12-e709-48b2-f411-072e78a25d4d"
   },
   "outputs": [
    {
     "name": "stderr",
     "output_type": "stream",
     "text": [
      "C:\\Users\\gauri\\AppData\\Local\\Temp\\ipykernel_16440\\2924410206.py:2: DtypeWarning: Columns (23) have mixed types. Specify dtype option on import or set low_memory=False.\n",
      "  df=pd.read_csv(r\"C:\\Users\\gauri\\Downloads\\amzon sales analysis\\Amazon Sale Report.csv\")\n"
     ]
    }
   ],
   "source": [
    "# To read the data\n",
    "df=pd.read_csv(r\"C:\\Users\\gauri\\Downloads\\amzon sales analysis\\Amazon Sale Report.csv\")"
   ]
  },
  {
   "cell_type": "code",
   "execution_count": 6,
   "metadata": {
    "colab": {
     "base_uri": "https://localhost:8080/",
     "height": 533
    },
    "id": "1SN_C8o6TjWc",
    "outputId": "9fba62e4-c6d7-47da-d22f-a2427f7a3608"
   },
   "outputs": [
    {
     "data": {
      "text/html": [
       "<div>\n",
       "<style scoped>\n",
       "    .dataframe tbody tr th:only-of-type {\n",
       "        vertical-align: middle;\n",
       "    }\n",
       "\n",
       "    .dataframe tbody tr th {\n",
       "        vertical-align: top;\n",
       "    }\n",
       "\n",
       "    .dataframe thead th {\n",
       "        text-align: right;\n",
       "    }\n",
       "</style>\n",
       "<table border=\"1\" class=\"dataframe\">\n",
       "  <thead>\n",
       "    <tr style=\"text-align: right;\">\n",
       "      <th></th>\n",
       "      <th>index</th>\n",
       "      <th>Order ID</th>\n",
       "      <th>Date</th>\n",
       "      <th>Status</th>\n",
       "      <th>Fulfilment</th>\n",
       "      <th>Sales Channel</th>\n",
       "      <th>ship-service-level</th>\n",
       "      <th>Style</th>\n",
       "      <th>SKU</th>\n",
       "      <th>Category</th>\n",
       "      <th>...</th>\n",
       "      <th>currency</th>\n",
       "      <th>Amount</th>\n",
       "      <th>ship-city</th>\n",
       "      <th>ship-state</th>\n",
       "      <th>ship-postal-code</th>\n",
       "      <th>ship-country</th>\n",
       "      <th>promotion-ids</th>\n",
       "      <th>B2B</th>\n",
       "      <th>fulfilled-by</th>\n",
       "      <th>Unnamed: 22</th>\n",
       "    </tr>\n",
       "  </thead>\n",
       "  <tbody>\n",
       "    <tr>\n",
       "      <th>0</th>\n",
       "      <td>0</td>\n",
       "      <td>405-8078784-5731545</td>\n",
       "      <td>04-30-22</td>\n",
       "      <td>Cancelled</td>\n",
       "      <td>Merchant</td>\n",
       "      <td>Amazon.in</td>\n",
       "      <td>Standard</td>\n",
       "      <td>SET389</td>\n",
       "      <td>SET389-KR-NP-S</td>\n",
       "      <td>Set</td>\n",
       "      <td>...</td>\n",
       "      <td>INR</td>\n",
       "      <td>647.62</td>\n",
       "      <td>MUMBAI</td>\n",
       "      <td>MAHARASHTRA</td>\n",
       "      <td>400081.0</td>\n",
       "      <td>IN</td>\n",
       "      <td>NaN</td>\n",
       "      <td>False</td>\n",
       "      <td>Easy Ship</td>\n",
       "      <td>NaN</td>\n",
       "    </tr>\n",
       "    <tr>\n",
       "      <th>1</th>\n",
       "      <td>1</td>\n",
       "      <td>171-9198151-1101146</td>\n",
       "      <td>04-30-22</td>\n",
       "      <td>Shipped - Delivered to Buyer</td>\n",
       "      <td>Merchant</td>\n",
       "      <td>Amazon.in</td>\n",
       "      <td>Standard</td>\n",
       "      <td>JNE3781</td>\n",
       "      <td>JNE3781-KR-XXXL</td>\n",
       "      <td>kurta</td>\n",
       "      <td>...</td>\n",
       "      <td>INR</td>\n",
       "      <td>406.00</td>\n",
       "      <td>BENGALURU</td>\n",
       "      <td>KARNATAKA</td>\n",
       "      <td>560085.0</td>\n",
       "      <td>IN</td>\n",
       "      <td>Amazon PLCC Free-Financing Universal Merchant ...</td>\n",
       "      <td>False</td>\n",
       "      <td>Easy Ship</td>\n",
       "      <td>NaN</td>\n",
       "    </tr>\n",
       "    <tr>\n",
       "      <th>2</th>\n",
       "      <td>2</td>\n",
       "      <td>404-0687676-7273146</td>\n",
       "      <td>04-30-22</td>\n",
       "      <td>Shipped</td>\n",
       "      <td>Amazon</td>\n",
       "      <td>Amazon.in</td>\n",
       "      <td>Expedited</td>\n",
       "      <td>JNE3371</td>\n",
       "      <td>JNE3371-KR-XL</td>\n",
       "      <td>kurta</td>\n",
       "      <td>...</td>\n",
       "      <td>INR</td>\n",
       "      <td>329.00</td>\n",
       "      <td>NAVI MUMBAI</td>\n",
       "      <td>MAHARASHTRA</td>\n",
       "      <td>410210.0</td>\n",
       "      <td>IN</td>\n",
       "      <td>IN Core Free Shipping 2015/04/08 23-48-5-108</td>\n",
       "      <td>True</td>\n",
       "      <td>NaN</td>\n",
       "      <td>NaN</td>\n",
       "    </tr>\n",
       "    <tr>\n",
       "      <th>3</th>\n",
       "      <td>3</td>\n",
       "      <td>403-9615377-8133951</td>\n",
       "      <td>04-30-22</td>\n",
       "      <td>Cancelled</td>\n",
       "      <td>Merchant</td>\n",
       "      <td>Amazon.in</td>\n",
       "      <td>Standard</td>\n",
       "      <td>J0341</td>\n",
       "      <td>J0341-DR-L</td>\n",
       "      <td>Western Dress</td>\n",
       "      <td>...</td>\n",
       "      <td>INR</td>\n",
       "      <td>753.33</td>\n",
       "      <td>PUDUCHERRY</td>\n",
       "      <td>PUDUCHERRY</td>\n",
       "      <td>605008.0</td>\n",
       "      <td>IN</td>\n",
       "      <td>NaN</td>\n",
       "      <td>False</td>\n",
       "      <td>Easy Ship</td>\n",
       "      <td>NaN</td>\n",
       "    </tr>\n",
       "    <tr>\n",
       "      <th>4</th>\n",
       "      <td>4</td>\n",
       "      <td>407-1069790-7240320</td>\n",
       "      <td>04-30-22</td>\n",
       "      <td>Shipped</td>\n",
       "      <td>Amazon</td>\n",
       "      <td>Amazon.in</td>\n",
       "      <td>Expedited</td>\n",
       "      <td>JNE3671</td>\n",
       "      <td>JNE3671-TU-XXXL</td>\n",
       "      <td>Top</td>\n",
       "      <td>...</td>\n",
       "      <td>INR</td>\n",
       "      <td>574.00</td>\n",
       "      <td>CHENNAI</td>\n",
       "      <td>TAMIL NADU</td>\n",
       "      <td>600073.0</td>\n",
       "      <td>IN</td>\n",
       "      <td>NaN</td>\n",
       "      <td>False</td>\n",
       "      <td>NaN</td>\n",
       "      <td>NaN</td>\n",
       "    </tr>\n",
       "  </tbody>\n",
       "</table>\n",
       "<p>5 rows × 24 columns</p>\n",
       "</div>"
      ],
      "text/plain": [
       "   index             Order ID      Date                        Status  \\\n",
       "0      0  405-8078784-5731545  04-30-22                     Cancelled   \n",
       "1      1  171-9198151-1101146  04-30-22  Shipped - Delivered to Buyer   \n",
       "2      2  404-0687676-7273146  04-30-22                       Shipped   \n",
       "3      3  403-9615377-8133951  04-30-22                     Cancelled   \n",
       "4      4  407-1069790-7240320  04-30-22                       Shipped   \n",
       "\n",
       "  Fulfilment Sales Channel  ship-service-level    Style              SKU  \\\n",
       "0   Merchant      Amazon.in           Standard   SET389   SET389-KR-NP-S   \n",
       "1   Merchant      Amazon.in           Standard  JNE3781  JNE3781-KR-XXXL   \n",
       "2     Amazon      Amazon.in          Expedited  JNE3371    JNE3371-KR-XL   \n",
       "3   Merchant      Amazon.in           Standard    J0341       J0341-DR-L   \n",
       "4     Amazon      Amazon.in          Expedited  JNE3671  JNE3671-TU-XXXL   \n",
       "\n",
       "        Category  ... currency  Amount    ship-city   ship-state  \\\n",
       "0            Set  ...      INR  647.62       MUMBAI  MAHARASHTRA   \n",
       "1          kurta  ...      INR  406.00    BENGALURU    KARNATAKA   \n",
       "2          kurta  ...      INR  329.00  NAVI MUMBAI  MAHARASHTRA   \n",
       "3  Western Dress  ...      INR  753.33   PUDUCHERRY   PUDUCHERRY   \n",
       "4            Top  ...      INR  574.00      CHENNAI   TAMIL NADU   \n",
       "\n",
       "  ship-postal-code  ship-country  \\\n",
       "0         400081.0            IN   \n",
       "1         560085.0            IN   \n",
       "2         410210.0            IN   \n",
       "3         605008.0            IN   \n",
       "4         600073.0            IN   \n",
       "\n",
       "                                       promotion-ids    B2B  fulfilled-by  \\\n",
       "0                                                NaN  False     Easy Ship   \n",
       "1  Amazon PLCC Free-Financing Universal Merchant ...  False     Easy Ship   \n",
       "2       IN Core Free Shipping 2015/04/08 23-48-5-108   True           NaN   \n",
       "3                                                NaN  False     Easy Ship   \n",
       "4                                                NaN  False           NaN   \n",
       "\n",
       "  Unnamed: 22  \n",
       "0         NaN  \n",
       "1         NaN  \n",
       "2         NaN  \n",
       "3         NaN  \n",
       "4         NaN  \n",
       "\n",
       "[5 rows x 24 columns]"
      ]
     },
     "execution_count": 6,
     "metadata": {},
     "output_type": "execute_result"
    }
   ],
   "source": [
    "# it will show top 5 rows data\n",
    "df.head()"
   ]
  },
  {
   "cell_type": "code",
   "execution_count": 5,
   "metadata": {
    "colab": {
     "base_uri": "https://localhost:8080/",
     "height": 568
    },
    "id": "osBPCjyDUKF8",
    "outputId": "4d732e4f-25f0-492e-ec37-5c285e4c34fa"
   },
   "outputs": [
    {
     "data": {
      "text/html": [
       "\n",
       "  <div id=\"df-71db0cfa-3c60-48a0-a9b1-59556dfef7bf\" class=\"colab-df-container\">\n",
       "    <div>\n",
       "<style scoped>\n",
       "    .dataframe tbody tr th:only-of-type {\n",
       "        vertical-align: middle;\n",
       "    }\n",
       "\n",
       "    .dataframe tbody tr th {\n",
       "        vertical-align: top;\n",
       "    }\n",
       "\n",
       "    .dataframe thead th {\n",
       "        text-align: right;\n",
       "    }\n",
       "</style>\n",
       "<table border=\"1\" class=\"dataframe\">\n",
       "  <thead>\n",
       "    <tr style=\"text-align: right;\">\n",
       "      <th></th>\n",
       "      <th>index</th>\n",
       "      <th>Order ID</th>\n",
       "      <th>Date</th>\n",
       "      <th>Status</th>\n",
       "      <th>Fulfilment</th>\n",
       "      <th>Sales Channel</th>\n",
       "      <th>ship-service-level</th>\n",
       "      <th>Style</th>\n",
       "      <th>SKU</th>\n",
       "      <th>Category</th>\n",
       "      <th>...</th>\n",
       "      <th>currency</th>\n",
       "      <th>Amount</th>\n",
       "      <th>ship-city</th>\n",
       "      <th>ship-state</th>\n",
       "      <th>ship-postal-code</th>\n",
       "      <th>ship-country</th>\n",
       "      <th>promotion-ids</th>\n",
       "      <th>B2B</th>\n",
       "      <th>fulfilled-by</th>\n",
       "      <th>Unnamed: 22</th>\n",
       "    </tr>\n",
       "  </thead>\n",
       "  <tbody>\n",
       "    <tr>\n",
       "      <th>128970</th>\n",
       "      <td>128970</td>\n",
       "      <td>406-6001380-7673107</td>\n",
       "      <td>05-31-22</td>\n",
       "      <td>Shipped</td>\n",
       "      <td>Amazon</td>\n",
       "      <td>Amazon.in</td>\n",
       "      <td>Expedited</td>\n",
       "      <td>JNE3697</td>\n",
       "      <td>JNE3697-KR-XL</td>\n",
       "      <td>kurta</td>\n",
       "      <td>...</td>\n",
       "      <td>INR</td>\n",
       "      <td>517.0</td>\n",
       "      <td>HYDERABAD</td>\n",
       "      <td>TELANGANA</td>\n",
       "      <td>500013.0</td>\n",
       "      <td>IN</td>\n",
       "      <td>NaN</td>\n",
       "      <td>False</td>\n",
       "      <td>NaN</td>\n",
       "      <td>False</td>\n",
       "    </tr>\n",
       "    <tr>\n",
       "      <th>128971</th>\n",
       "      <td>128971</td>\n",
       "      <td>402-9551604-7544318</td>\n",
       "      <td>05-31-22</td>\n",
       "      <td>Shipped</td>\n",
       "      <td>Amazon</td>\n",
       "      <td>Amazon.in</td>\n",
       "      <td>Expedited</td>\n",
       "      <td>SET401</td>\n",
       "      <td>SET401-KR-NP-M</td>\n",
       "      <td>Set</td>\n",
       "      <td>...</td>\n",
       "      <td>INR</td>\n",
       "      <td>999.0</td>\n",
       "      <td>GURUGRAM</td>\n",
       "      <td>HARYANA</td>\n",
       "      <td>122004.0</td>\n",
       "      <td>IN</td>\n",
       "      <td>IN Core Free Shipping 2015/04/08 23-48-5-108</td>\n",
       "      <td>False</td>\n",
       "      <td>NaN</td>\n",
       "      <td>False</td>\n",
       "    </tr>\n",
       "    <tr>\n",
       "      <th>128972</th>\n",
       "      <td>128972</td>\n",
       "      <td>407-9547469-3152358</td>\n",
       "      <td>05-31-22</td>\n",
       "      <td>Shipped</td>\n",
       "      <td>Amazon</td>\n",
       "      <td>Amazon.in</td>\n",
       "      <td>Expedited</td>\n",
       "      <td>J0157</td>\n",
       "      <td>J0157-DR-XXL</td>\n",
       "      <td>Western Dress</td>\n",
       "      <td>...</td>\n",
       "      <td>INR</td>\n",
       "      <td>690.0</td>\n",
       "      <td>HYDERABAD</td>\n",
       "      <td>TELANGANA</td>\n",
       "      <td>500049.0</td>\n",
       "      <td>IN</td>\n",
       "      <td>NaN</td>\n",
       "      <td>False</td>\n",
       "      <td>NaN</td>\n",
       "      <td>False</td>\n",
       "    </tr>\n",
       "    <tr>\n",
       "      <th>128973</th>\n",
       "      <td>128973</td>\n",
       "      <td>402-6184140-0545956</td>\n",
       "      <td>05-31-22</td>\n",
       "      <td>Shipped</td>\n",
       "      <td>Amazon</td>\n",
       "      <td>Amazon.in</td>\n",
       "      <td>Expedited</td>\n",
       "      <td>J0012</td>\n",
       "      <td>J0012-SKD-XS</td>\n",
       "      <td>Set</td>\n",
       "      <td>...</td>\n",
       "      <td>INR</td>\n",
       "      <td>1199.0</td>\n",
       "      <td>Halol</td>\n",
       "      <td>Gujarat</td>\n",
       "      <td>389350.0</td>\n",
       "      <td>IN</td>\n",
       "      <td>IN Core Free Shipping 2015/04/08 23-48-5-108</td>\n",
       "      <td>False</td>\n",
       "      <td>NaN</td>\n",
       "      <td>False</td>\n",
       "    </tr>\n",
       "    <tr>\n",
       "      <th>128974</th>\n",
       "      <td>128974</td>\n",
       "      <td>408-7436540-8728312</td>\n",
       "      <td>05-31-22</td>\n",
       "      <td>Shipped</td>\n",
       "      <td>Amazon</td>\n",
       "      <td>Amazon.in</td>\n",
       "      <td>Expedited</td>\n",
       "      <td>J0003</td>\n",
       "      <td>J0003-SET-S</td>\n",
       "      <td>Set</td>\n",
       "      <td>...</td>\n",
       "      <td>INR</td>\n",
       "      <td>696.0</td>\n",
       "      <td>Raipur</td>\n",
       "      <td>CHHATTISGARH</td>\n",
       "      <td>492014.0</td>\n",
       "      <td>IN</td>\n",
       "      <td>IN Core Free Shipping 2015/04/08 23-48-5-108</td>\n",
       "      <td>False</td>\n",
       "      <td>NaN</td>\n",
       "      <td>False</td>\n",
       "    </tr>\n",
       "  </tbody>\n",
       "</table>\n",
       "<p>5 rows × 24 columns</p>\n",
       "</div>\n",
       "    <div class=\"colab-df-buttons\">\n",
       "\n",
       "  <div class=\"colab-df-container\">\n",
       "    <button class=\"colab-df-convert\" onclick=\"convertToInteractive('df-71db0cfa-3c60-48a0-a9b1-59556dfef7bf')\"\n",
       "            title=\"Convert this dataframe to an interactive table.\"\n",
       "            style=\"display:none;\">\n",
       "\n",
       "  <svg xmlns=\"http://www.w3.org/2000/svg\" height=\"24px\" viewBox=\"0 -960 960 960\">\n",
       "    <path d=\"M120-120v-720h720v720H120Zm60-500h600v-160H180v160Zm220 220h160v-160H400v160Zm0 220h160v-160H400v160ZM180-400h160v-160H180v160Zm440 0h160v-160H620v160ZM180-180h160v-160H180v160Zm440 0h160v-160H620v160Z\"/>\n",
       "  </svg>\n",
       "    </button>\n",
       "\n",
       "  <style>\n",
       "    .colab-df-container {\n",
       "      display:flex;\n",
       "      gap: 12px;\n",
       "    }\n",
       "\n",
       "    .colab-df-convert {\n",
       "      background-color: #E8F0FE;\n",
       "      border: none;\n",
       "      border-radius: 50%;\n",
       "      cursor: pointer;\n",
       "      display: none;\n",
       "      fill: #1967D2;\n",
       "      height: 32px;\n",
       "      padding: 0 0 0 0;\n",
       "      width: 32px;\n",
       "    }\n",
       "\n",
       "    .colab-df-convert:hover {\n",
       "      background-color: #E2EBFA;\n",
       "      box-shadow: 0px 1px 2px rgba(60, 64, 67, 0.3), 0px 1px 3px 1px rgba(60, 64, 67, 0.15);\n",
       "      fill: #174EA6;\n",
       "    }\n",
       "\n",
       "    .colab-df-buttons div {\n",
       "      margin-bottom: 4px;\n",
       "    }\n",
       "\n",
       "    [theme=dark] .colab-df-convert {\n",
       "      background-color: #3B4455;\n",
       "      fill: #D2E3FC;\n",
       "    }\n",
       "\n",
       "    [theme=dark] .colab-df-convert:hover {\n",
       "      background-color: #434B5C;\n",
       "      box-shadow: 0px 1px 3px 1px rgba(0, 0, 0, 0.15);\n",
       "      filter: drop-shadow(0px 1px 2px rgba(0, 0, 0, 0.3));\n",
       "      fill: #FFFFFF;\n",
       "    }\n",
       "  </style>\n",
       "\n",
       "    <script>\n",
       "      const buttonEl =\n",
       "        document.querySelector('#df-71db0cfa-3c60-48a0-a9b1-59556dfef7bf button.colab-df-convert');\n",
       "      buttonEl.style.display =\n",
       "        google.colab.kernel.accessAllowed ? 'block' : 'none';\n",
       "\n",
       "      async function convertToInteractive(key) {\n",
       "        const element = document.querySelector('#df-71db0cfa-3c60-48a0-a9b1-59556dfef7bf');\n",
       "        const dataTable =\n",
       "          await google.colab.kernel.invokeFunction('convertToInteractive',\n",
       "                                                    [key], {});\n",
       "        if (!dataTable) return;\n",
       "\n",
       "        const docLinkHtml = 'Like what you see? Visit the ' +\n",
       "          '<a target=\"_blank\" href=https://colab.research.google.com/notebooks/data_table.ipynb>data table notebook</a>'\n",
       "          + ' to learn more about interactive tables.';\n",
       "        element.innerHTML = '';\n",
       "        dataTable['output_type'] = 'display_data';\n",
       "        await google.colab.output.renderOutput(dataTable, element);\n",
       "        const docLink = document.createElement('div');\n",
       "        docLink.innerHTML = docLinkHtml;\n",
       "        element.appendChild(docLink);\n",
       "      }\n",
       "    </script>\n",
       "  </div>\n",
       "\n",
       "\n",
       "<div id=\"df-92f40036-e131-4d65-ae9f-0a8472f8723d\">\n",
       "  <button class=\"colab-df-quickchart\" onclick=\"quickchart('df-92f40036-e131-4d65-ae9f-0a8472f8723d')\"\n",
       "            title=\"Suggest charts\"\n",
       "            style=\"display:none;\">\n",
       "\n",
       "<svg xmlns=\"http://www.w3.org/2000/svg\" height=\"24px\"viewBox=\"0 0 24 24\"\n",
       "     width=\"24px\">\n",
       "    <g>\n",
       "        <path d=\"M19 3H5c-1.1 0-2 .9-2 2v14c0 1.1.9 2 2 2h14c1.1 0 2-.9 2-2V5c0-1.1-.9-2-2-2zM9 17H7v-7h2v7zm4 0h-2V7h2v10zm4 0h-2v-4h2v4z\"/>\n",
       "    </g>\n",
       "</svg>\n",
       "  </button>\n",
       "\n",
       "<style>\n",
       "  .colab-df-quickchart {\n",
       "      --bg-color: #E8F0FE;\n",
       "      --fill-color: #1967D2;\n",
       "      --hover-bg-color: #E2EBFA;\n",
       "      --hover-fill-color: #174EA6;\n",
       "      --disabled-fill-color: #AAA;\n",
       "      --disabled-bg-color: #DDD;\n",
       "  }\n",
       "\n",
       "  [theme=dark] .colab-df-quickchart {\n",
       "      --bg-color: #3B4455;\n",
       "      --fill-color: #D2E3FC;\n",
       "      --hover-bg-color: #434B5C;\n",
       "      --hover-fill-color: #FFFFFF;\n",
       "      --disabled-bg-color: #3B4455;\n",
       "      --disabled-fill-color: #666;\n",
       "  }\n",
       "\n",
       "  .colab-df-quickchart {\n",
       "    background-color: var(--bg-color);\n",
       "    border: none;\n",
       "    border-radius: 50%;\n",
       "    cursor: pointer;\n",
       "    display: none;\n",
       "    fill: var(--fill-color);\n",
       "    height: 32px;\n",
       "    padding: 0;\n",
       "    width: 32px;\n",
       "  }\n",
       "\n",
       "  .colab-df-quickchart:hover {\n",
       "    background-color: var(--hover-bg-color);\n",
       "    box-shadow: 0 1px 2px rgba(60, 64, 67, 0.3), 0 1px 3px 1px rgba(60, 64, 67, 0.15);\n",
       "    fill: var(--button-hover-fill-color);\n",
       "  }\n",
       "\n",
       "  .colab-df-quickchart-complete:disabled,\n",
       "  .colab-df-quickchart-complete:disabled:hover {\n",
       "    background-color: var(--disabled-bg-color);\n",
       "    fill: var(--disabled-fill-color);\n",
       "    box-shadow: none;\n",
       "  }\n",
       "\n",
       "  .colab-df-spinner {\n",
       "    border: 2px solid var(--fill-color);\n",
       "    border-color: transparent;\n",
       "    border-bottom-color: var(--fill-color);\n",
       "    animation:\n",
       "      spin 1s steps(1) infinite;\n",
       "  }\n",
       "\n",
       "  @keyframes spin {\n",
       "    0% {\n",
       "      border-color: transparent;\n",
       "      border-bottom-color: var(--fill-color);\n",
       "      border-left-color: var(--fill-color);\n",
       "    }\n",
       "    20% {\n",
       "      border-color: transparent;\n",
       "      border-left-color: var(--fill-color);\n",
       "      border-top-color: var(--fill-color);\n",
       "    }\n",
       "    30% {\n",
       "      border-color: transparent;\n",
       "      border-left-color: var(--fill-color);\n",
       "      border-top-color: var(--fill-color);\n",
       "      border-right-color: var(--fill-color);\n",
       "    }\n",
       "    40% {\n",
       "      border-color: transparent;\n",
       "      border-right-color: var(--fill-color);\n",
       "      border-top-color: var(--fill-color);\n",
       "    }\n",
       "    60% {\n",
       "      border-color: transparent;\n",
       "      border-right-color: var(--fill-color);\n",
       "    }\n",
       "    80% {\n",
       "      border-color: transparent;\n",
       "      border-right-color: var(--fill-color);\n",
       "      border-bottom-color: var(--fill-color);\n",
       "    }\n",
       "    90% {\n",
       "      border-color: transparent;\n",
       "      border-bottom-color: var(--fill-color);\n",
       "    }\n",
       "  }\n",
       "</style>\n",
       "\n",
       "  <script>\n",
       "    async function quickchart(key) {\n",
       "      const quickchartButtonEl =\n",
       "        document.querySelector('#' + key + ' button');\n",
       "      quickchartButtonEl.disabled = true;  // To prevent multiple clicks.\n",
       "      quickchartButtonEl.classList.add('colab-df-spinner');\n",
       "      try {\n",
       "        const charts = await google.colab.kernel.invokeFunction(\n",
       "            'suggestCharts', [key], {});\n",
       "      } catch (error) {\n",
       "        console.error('Error during call to suggestCharts:', error);\n",
       "      }\n",
       "      quickchartButtonEl.classList.remove('colab-df-spinner');\n",
       "      quickchartButtonEl.classList.add('colab-df-quickchart-complete');\n",
       "    }\n",
       "    (() => {\n",
       "      let quickchartButtonEl =\n",
       "        document.querySelector('#df-92f40036-e131-4d65-ae9f-0a8472f8723d button');\n",
       "      quickchartButtonEl.style.display =\n",
       "        google.colab.kernel.accessAllowed ? 'block' : 'none';\n",
       "    })();\n",
       "  </script>\n",
       "</div>\n",
       "\n",
       "    </div>\n",
       "  </div>\n"
      ],
      "text/plain": [
       "         index             Order ID      Date   Status Fulfilment  \\\n",
       "128970  128970  406-6001380-7673107  05-31-22  Shipped     Amazon   \n",
       "128971  128971  402-9551604-7544318  05-31-22  Shipped     Amazon   \n",
       "128972  128972  407-9547469-3152358  05-31-22  Shipped     Amazon   \n",
       "128973  128973  402-6184140-0545956  05-31-22  Shipped     Amazon   \n",
       "128974  128974  408-7436540-8728312  05-31-22  Shipped     Amazon   \n",
       "\n",
       "       Sales Channel  ship-service-level    Style             SKU  \\\n",
       "128970      Amazon.in          Expedited  JNE3697   JNE3697-KR-XL   \n",
       "128971      Amazon.in          Expedited   SET401  SET401-KR-NP-M   \n",
       "128972      Amazon.in          Expedited    J0157    J0157-DR-XXL   \n",
       "128973      Amazon.in          Expedited    J0012    J0012-SKD-XS   \n",
       "128974      Amazon.in          Expedited    J0003     J0003-SET-S   \n",
       "\n",
       "             Category  ... currency  Amount  ship-city    ship-state  \\\n",
       "128970          kurta  ...      INR   517.0  HYDERABAD     TELANGANA   \n",
       "128971            Set  ...      INR   999.0   GURUGRAM       HARYANA   \n",
       "128972  Western Dress  ...      INR   690.0  HYDERABAD     TELANGANA   \n",
       "128973            Set  ...      INR  1199.0      Halol       Gujarat   \n",
       "128974            Set  ...      INR   696.0     Raipur  CHHATTISGARH   \n",
       "\n",
       "       ship-postal-code  ship-country  \\\n",
       "128970         500013.0            IN   \n",
       "128971         122004.0            IN   \n",
       "128972         500049.0            IN   \n",
       "128973         389350.0            IN   \n",
       "128974         492014.0            IN   \n",
       "\n",
       "                                       promotion-ids    B2B  fulfilled-by  \\\n",
       "128970                                           NaN  False           NaN   \n",
       "128971  IN Core Free Shipping 2015/04/08 23-48-5-108  False           NaN   \n",
       "128972                                           NaN  False           NaN   \n",
       "128973  IN Core Free Shipping 2015/04/08 23-48-5-108  False           NaN   \n",
       "128974  IN Core Free Shipping 2015/04/08 23-48-5-108  False           NaN   \n",
       "\n",
       "       Unnamed: 22  \n",
       "128970       False  \n",
       "128971       False  \n",
       "128972       False  \n",
       "128973       False  \n",
       "128974       False  \n",
       "\n",
       "[5 rows x 24 columns]"
      ]
     },
     "execution_count": 5,
     "metadata": {},
     "output_type": "execute_result"
    }
   ],
   "source": [
    "# It will show last 5 rows data\n",
    "df.tail()"
   ]
  },
  {
   "cell_type": "code",
   "execution_count": 7,
   "metadata": {
    "colab": {
     "base_uri": "https://localhost:8080/"
    },
    "id": "hJWo-JngXEBW",
    "outputId": "4693a786-f021-41ac-8f5a-4d0ab296c789"
   },
   "outputs": [
    {
     "name": "stdout",
     "output_type": "stream",
     "text": [
      "<class 'pandas.core.frame.DataFrame'>\n",
      "RangeIndex: 128975 entries, 0 to 128974\n",
      "Data columns (total 24 columns):\n",
      " #   Column              Non-Null Count   Dtype  \n",
      "---  ------              --------------   -----  \n",
      " 0   index               128975 non-null  int64  \n",
      " 1   Order ID            128975 non-null  object \n",
      " 2   Date                128975 non-null  object \n",
      " 3   Status              128975 non-null  object \n",
      " 4   Fulfilment          128975 non-null  object \n",
      " 5   Sales Channel       128975 non-null  object \n",
      " 6   ship-service-level  128975 non-null  object \n",
      " 7   Style               128975 non-null  object \n",
      " 8   SKU                 128975 non-null  object \n",
      " 9   Category            128975 non-null  object \n",
      " 10  Size                128975 non-null  object \n",
      " 11  ASIN                128975 non-null  object \n",
      " 12  Courier Status      122103 non-null  object \n",
      " 13  Qty                 128975 non-null  int64  \n",
      " 14  currency            121180 non-null  object \n",
      " 15  Amount              121180 non-null  float64\n",
      " 16  ship-city           128942 non-null  object \n",
      " 17  ship-state          128942 non-null  object \n",
      " 18  ship-postal-code    128942 non-null  float64\n",
      " 19  ship-country        128942 non-null  object \n",
      " 20  promotion-ids       79822 non-null   object \n",
      " 21  B2B                 128975 non-null  bool   \n",
      " 22  fulfilled-by        39277 non-null   object \n",
      " 23  Unnamed: 22         79925 non-null   object \n",
      "dtypes: bool(1), float64(2), int64(2), object(19)\n",
      "memory usage: 22.8+ MB\n"
     ]
    }
   ],
   "source": [
    "# show the information of data like total rows in every columns, datatypes\n",
    "df.info()"
   ]
  },
  {
   "cell_type": "code",
   "execution_count": 8,
   "metadata": {
    "colab": {
     "base_uri": "https://localhost:8080/"
    },
    "id": "stcUzv46XTIf",
    "outputId": "0e912772-866e-4bc5-a975-9454a93aca5b"
   },
   "outputs": [
    {
     "data": {
      "text/plain": [
       "index                     0\n",
       "Order ID                  0\n",
       "Date                      0\n",
       "Status                    0\n",
       "Fulfilment                0\n",
       "Sales Channel             0\n",
       "ship-service-level        0\n",
       "Style                     0\n",
       "SKU                       0\n",
       "Category                  0\n",
       "Size                      0\n",
       "ASIN                      0\n",
       "Courier Status         6872\n",
       "Qty                       0\n",
       "currency               7795\n",
       "Amount                 7795\n",
       "ship-city                33\n",
       "ship-state               33\n",
       "ship-postal-code         33\n",
       "ship-country             33\n",
       "promotion-ids         49153\n",
       "B2B                       0\n",
       "fulfilled-by          89698\n",
       "Unnamed: 22           49050\n",
       "dtype: int64"
      ]
     },
     "execution_count": 8,
     "metadata": {},
     "output_type": "execute_result"
    }
   ],
   "source": [
    "# show how many total null values are there\n",
    "df.isna().sum()"
   ]
  },
  {
   "cell_type": "code",
   "execution_count": 9,
   "metadata": {
    "colab": {
     "base_uri": "https://localhost:8080/"
    },
    "id": "8dOR8uytWLrg",
    "outputId": "9ed0d4e0-5a72-4c1e-9fbb-fa8cde4a6ef1"
   },
   "outputs": [
    {
     "data": {
      "text/plain": [
       "Index(['index', 'Order ID', 'Date', 'Status', 'Fulfilment', 'Sales Channel ',\n",
       "       'ship-service-level', 'Style', 'SKU', 'Category', 'Size', 'ASIN',\n",
       "       'Courier Status', 'Qty', 'currency', 'Amount', 'ship-city',\n",
       "       'ship-state', 'ship-postal-code', 'ship-country', 'promotion-ids',\n",
       "       'B2B', 'fulfilled-by', 'Unnamed: 22'],\n",
       "      dtype='object')"
      ]
     },
     "execution_count": 9,
     "metadata": {},
     "output_type": "execute_result"
    }
   ],
   "source": [
    "# show all column names\n",
    "df.columns"
   ]
  },
  {
   "cell_type": "code",
   "execution_count": 10,
   "metadata": {
    "id": "fpa8ZctVeSEQ"
   },
   "outputs": [],
   "source": [
    "# dropping column that will not be use for visualization\n",
    "df.drop(columns=['index', 'Order ID','ship-postal-code', 'promotion-ids','ship-service-level','Style','SKU','ship-postal-code',],inplace=True)"
   ]
  },
  {
   "cell_type": "code",
   "execution_count": 11,
   "metadata": {
    "colab": {
     "base_uri": "https://localhost:8080/",
     "height": 327
    },
    "id": "PASLZE3-lQsz",
    "outputId": "cad7612a-830d-4d49-89b1-b888c03e10a9"
   },
   "outputs": [
    {
     "data": {
      "text/html": [
       "<div>\n",
       "<style scoped>\n",
       "    .dataframe tbody tr th:only-of-type {\n",
       "        vertical-align: middle;\n",
       "    }\n",
       "\n",
       "    .dataframe tbody tr th {\n",
       "        vertical-align: top;\n",
       "    }\n",
       "\n",
       "    .dataframe thead th {\n",
       "        text-align: right;\n",
       "    }\n",
       "</style>\n",
       "<table border=\"1\" class=\"dataframe\">\n",
       "  <thead>\n",
       "    <tr style=\"text-align: right;\">\n",
       "      <th></th>\n",
       "      <th>Date</th>\n",
       "      <th>Status</th>\n",
       "      <th>Fulfilment</th>\n",
       "      <th>Sales Channel</th>\n",
       "      <th>Category</th>\n",
       "      <th>Size</th>\n",
       "      <th>ASIN</th>\n",
       "      <th>Courier Status</th>\n",
       "      <th>Qty</th>\n",
       "      <th>currency</th>\n",
       "      <th>Amount</th>\n",
       "      <th>ship-city</th>\n",
       "      <th>ship-state</th>\n",
       "      <th>ship-country</th>\n",
       "      <th>B2B</th>\n",
       "      <th>fulfilled-by</th>\n",
       "      <th>Unnamed: 22</th>\n",
       "    </tr>\n",
       "  </thead>\n",
       "  <tbody>\n",
       "    <tr>\n",
       "      <th>0</th>\n",
       "      <td>04-30-22</td>\n",
       "      <td>Cancelled</td>\n",
       "      <td>Merchant</td>\n",
       "      <td>Amazon.in</td>\n",
       "      <td>Set</td>\n",
       "      <td>S</td>\n",
       "      <td>B09KXVBD7Z</td>\n",
       "      <td>NaN</td>\n",
       "      <td>0</td>\n",
       "      <td>INR</td>\n",
       "      <td>647.62</td>\n",
       "      <td>MUMBAI</td>\n",
       "      <td>MAHARASHTRA</td>\n",
       "      <td>IN</td>\n",
       "      <td>False</td>\n",
       "      <td>Easy Ship</td>\n",
       "      <td>NaN</td>\n",
       "    </tr>\n",
       "    <tr>\n",
       "      <th>1</th>\n",
       "      <td>04-30-22</td>\n",
       "      <td>Shipped - Delivered to Buyer</td>\n",
       "      <td>Merchant</td>\n",
       "      <td>Amazon.in</td>\n",
       "      <td>kurta</td>\n",
       "      <td>3XL</td>\n",
       "      <td>B09K3WFS32</td>\n",
       "      <td>Shipped</td>\n",
       "      <td>1</td>\n",
       "      <td>INR</td>\n",
       "      <td>406.00</td>\n",
       "      <td>BENGALURU</td>\n",
       "      <td>KARNATAKA</td>\n",
       "      <td>IN</td>\n",
       "      <td>False</td>\n",
       "      <td>Easy Ship</td>\n",
       "      <td>NaN</td>\n",
       "    </tr>\n",
       "    <tr>\n",
       "      <th>2</th>\n",
       "      <td>04-30-22</td>\n",
       "      <td>Shipped</td>\n",
       "      <td>Amazon</td>\n",
       "      <td>Amazon.in</td>\n",
       "      <td>kurta</td>\n",
       "      <td>XL</td>\n",
       "      <td>B07WV4JV4D</td>\n",
       "      <td>Shipped</td>\n",
       "      <td>1</td>\n",
       "      <td>INR</td>\n",
       "      <td>329.00</td>\n",
       "      <td>NAVI MUMBAI</td>\n",
       "      <td>MAHARASHTRA</td>\n",
       "      <td>IN</td>\n",
       "      <td>True</td>\n",
       "      <td>NaN</td>\n",
       "      <td>NaN</td>\n",
       "    </tr>\n",
       "    <tr>\n",
       "      <th>3</th>\n",
       "      <td>04-30-22</td>\n",
       "      <td>Cancelled</td>\n",
       "      <td>Merchant</td>\n",
       "      <td>Amazon.in</td>\n",
       "      <td>Western Dress</td>\n",
       "      <td>L</td>\n",
       "      <td>B099NRCT7B</td>\n",
       "      <td>NaN</td>\n",
       "      <td>0</td>\n",
       "      <td>INR</td>\n",
       "      <td>753.33</td>\n",
       "      <td>PUDUCHERRY</td>\n",
       "      <td>PUDUCHERRY</td>\n",
       "      <td>IN</td>\n",
       "      <td>False</td>\n",
       "      <td>Easy Ship</td>\n",
       "      <td>NaN</td>\n",
       "    </tr>\n",
       "    <tr>\n",
       "      <th>4</th>\n",
       "      <td>04-30-22</td>\n",
       "      <td>Shipped</td>\n",
       "      <td>Amazon</td>\n",
       "      <td>Amazon.in</td>\n",
       "      <td>Top</td>\n",
       "      <td>3XL</td>\n",
       "      <td>B098714BZP</td>\n",
       "      <td>Shipped</td>\n",
       "      <td>1</td>\n",
       "      <td>INR</td>\n",
       "      <td>574.00</td>\n",
       "      <td>CHENNAI</td>\n",
       "      <td>TAMIL NADU</td>\n",
       "      <td>IN</td>\n",
       "      <td>False</td>\n",
       "      <td>NaN</td>\n",
       "      <td>NaN</td>\n",
       "    </tr>\n",
       "  </tbody>\n",
       "</table>\n",
       "</div>"
      ],
      "text/plain": [
       "       Date                        Status Fulfilment Sales Channel   \\\n",
       "0  04-30-22                     Cancelled   Merchant      Amazon.in   \n",
       "1  04-30-22  Shipped - Delivered to Buyer   Merchant      Amazon.in   \n",
       "2  04-30-22                       Shipped     Amazon      Amazon.in   \n",
       "3  04-30-22                     Cancelled   Merchant      Amazon.in   \n",
       "4  04-30-22                       Shipped     Amazon      Amazon.in   \n",
       "\n",
       "        Category Size        ASIN Courier Status  Qty currency  Amount  \\\n",
       "0            Set    S  B09KXVBD7Z            NaN    0      INR  647.62   \n",
       "1          kurta  3XL  B09K3WFS32        Shipped    1      INR  406.00   \n",
       "2          kurta   XL  B07WV4JV4D        Shipped    1      INR  329.00   \n",
       "3  Western Dress    L  B099NRCT7B            NaN    0      INR  753.33   \n",
       "4            Top  3XL  B098714BZP        Shipped    1      INR  574.00   \n",
       "\n",
       "     ship-city   ship-state ship-country    B2B fulfilled-by Unnamed: 22  \n",
       "0       MUMBAI  MAHARASHTRA           IN  False    Easy Ship         NaN  \n",
       "1    BENGALURU    KARNATAKA           IN  False    Easy Ship         NaN  \n",
       "2  NAVI MUMBAI  MAHARASHTRA           IN   True          NaN         NaN  \n",
       "3   PUDUCHERRY   PUDUCHERRY           IN  False    Easy Ship         NaN  \n",
       "4      CHENNAI   TAMIL NADU           IN  False          NaN         NaN  "
      ]
     },
     "execution_count": 11,
     "metadata": {},
     "output_type": "execute_result"
    }
   ],
   "source": [
    "df.head()"
   ]
  },
  {
   "cell_type": "code",
   "execution_count": 12,
   "metadata": {
    "colab": {
     "base_uri": "https://localhost:8080/"
    },
    "id": "vw64HL7zlU0r",
    "outputId": "c7f722ed-c9c3-414e-ec82-9014bc1b2e9d"
   },
   "outputs": [
    {
     "data": {
      "text/plain": [
       "currency\n",
       "INR    121180\n",
       "Name: count, dtype: int64"
      ]
     },
     "execution_count": 12,
     "metadata": {},
     "output_type": "execute_result"
    }
   ],
   "source": [
    "# It counts the total value in a specific column\n",
    "df.currency.value_counts()"
   ]
  },
  {
   "cell_type": "code",
   "execution_count": 13,
   "metadata": {
    "colab": {
     "base_uri": "https://localhost:8080/"
    },
    "id": "CP3xfauWlYze",
    "outputId": "0ab8459b-42dd-41b2-c001-71c6cc38f5b7"
   },
   "outputs": [
    {
     "data": {
      "text/plain": [
       "ship-country\n",
       "IN    128942\n",
       "Name: count, dtype: int64"
      ]
     },
     "execution_count": 13,
     "metadata": {},
     "output_type": "execute_result"
    }
   ],
   "source": [
    "df['ship-country'].value_counts()"
   ]
  },
  {
   "cell_type": "code",
   "execution_count": 14,
   "metadata": {
    "colab": {
     "base_uri": "https://localhost:8080/"
    },
    "id": "5apMRYXFlkNB",
    "outputId": "06a58772-d99b-413c-9dfc-9aff493ecf53"
   },
   "outputs": [
    {
     "data": {
      "text/plain": [
       "2"
      ]
     },
     "execution_count": 14,
     "metadata": {},
     "output_type": "execute_result"
    }
   ],
   "source": [
    "# show how many unique value are there\n",
    "df[\"B2B\"].nunique()"
   ]
  },
  {
   "cell_type": "code",
   "execution_count": 15,
   "metadata": {
    "id": "cjDsTqt5mEFO"
   },
   "outputs": [],
   "source": [
    "df.drop(columns=['currency','ship-country',\"B2B\"],inplace=True)"
   ]
  },
  {
   "cell_type": "code",
   "execution_count": 16,
   "metadata": {
    "colab": {
     "base_uri": "https://localhost:8080/",
     "height": 206
    },
    "id": "NuJIHS9qmos9",
    "outputId": "1597594f-a7d0-4942-de98-4e224dab9b8c"
   },
   "outputs": [
    {
     "data": {
      "text/html": [
       "<div>\n",
       "<style scoped>\n",
       "    .dataframe tbody tr th:only-of-type {\n",
       "        vertical-align: middle;\n",
       "    }\n",
       "\n",
       "    .dataframe tbody tr th {\n",
       "        vertical-align: top;\n",
       "    }\n",
       "\n",
       "    .dataframe thead th {\n",
       "        text-align: right;\n",
       "    }\n",
       "</style>\n",
       "<table border=\"1\" class=\"dataframe\">\n",
       "  <thead>\n",
       "    <tr style=\"text-align: right;\">\n",
       "      <th></th>\n",
       "      <th>Date</th>\n",
       "      <th>Status</th>\n",
       "      <th>Fulfilment</th>\n",
       "      <th>Sales Channel</th>\n",
       "      <th>Category</th>\n",
       "      <th>Size</th>\n",
       "      <th>ASIN</th>\n",
       "      <th>Courier Status</th>\n",
       "      <th>Qty</th>\n",
       "      <th>Amount</th>\n",
       "      <th>ship-city</th>\n",
       "      <th>ship-state</th>\n",
       "      <th>fulfilled-by</th>\n",
       "      <th>Unnamed: 22</th>\n",
       "    </tr>\n",
       "  </thead>\n",
       "  <tbody>\n",
       "    <tr>\n",
       "      <th>0</th>\n",
       "      <td>04-30-22</td>\n",
       "      <td>Cancelled</td>\n",
       "      <td>Merchant</td>\n",
       "      <td>Amazon.in</td>\n",
       "      <td>Set</td>\n",
       "      <td>S</td>\n",
       "      <td>B09KXVBD7Z</td>\n",
       "      <td>NaN</td>\n",
       "      <td>0</td>\n",
       "      <td>647.62</td>\n",
       "      <td>MUMBAI</td>\n",
       "      <td>MAHARASHTRA</td>\n",
       "      <td>Easy Ship</td>\n",
       "      <td>NaN</td>\n",
       "    </tr>\n",
       "    <tr>\n",
       "      <th>1</th>\n",
       "      <td>04-30-22</td>\n",
       "      <td>Shipped - Delivered to Buyer</td>\n",
       "      <td>Merchant</td>\n",
       "      <td>Amazon.in</td>\n",
       "      <td>kurta</td>\n",
       "      <td>3XL</td>\n",
       "      <td>B09K3WFS32</td>\n",
       "      <td>Shipped</td>\n",
       "      <td>1</td>\n",
       "      <td>406.00</td>\n",
       "      <td>BENGALURU</td>\n",
       "      <td>KARNATAKA</td>\n",
       "      <td>Easy Ship</td>\n",
       "      <td>NaN</td>\n",
       "    </tr>\n",
       "    <tr>\n",
       "      <th>2</th>\n",
       "      <td>04-30-22</td>\n",
       "      <td>Shipped</td>\n",
       "      <td>Amazon</td>\n",
       "      <td>Amazon.in</td>\n",
       "      <td>kurta</td>\n",
       "      <td>XL</td>\n",
       "      <td>B07WV4JV4D</td>\n",
       "      <td>Shipped</td>\n",
       "      <td>1</td>\n",
       "      <td>329.00</td>\n",
       "      <td>NAVI MUMBAI</td>\n",
       "      <td>MAHARASHTRA</td>\n",
       "      <td>NaN</td>\n",
       "      <td>NaN</td>\n",
       "    </tr>\n",
       "    <tr>\n",
       "      <th>3</th>\n",
       "      <td>04-30-22</td>\n",
       "      <td>Cancelled</td>\n",
       "      <td>Merchant</td>\n",
       "      <td>Amazon.in</td>\n",
       "      <td>Western Dress</td>\n",
       "      <td>L</td>\n",
       "      <td>B099NRCT7B</td>\n",
       "      <td>NaN</td>\n",
       "      <td>0</td>\n",
       "      <td>753.33</td>\n",
       "      <td>PUDUCHERRY</td>\n",
       "      <td>PUDUCHERRY</td>\n",
       "      <td>Easy Ship</td>\n",
       "      <td>NaN</td>\n",
       "    </tr>\n",
       "    <tr>\n",
       "      <th>4</th>\n",
       "      <td>04-30-22</td>\n",
       "      <td>Shipped</td>\n",
       "      <td>Amazon</td>\n",
       "      <td>Amazon.in</td>\n",
       "      <td>Top</td>\n",
       "      <td>3XL</td>\n",
       "      <td>B098714BZP</td>\n",
       "      <td>Shipped</td>\n",
       "      <td>1</td>\n",
       "      <td>574.00</td>\n",
       "      <td>CHENNAI</td>\n",
       "      <td>TAMIL NADU</td>\n",
       "      <td>NaN</td>\n",
       "      <td>NaN</td>\n",
       "    </tr>\n",
       "  </tbody>\n",
       "</table>\n",
       "</div>"
      ],
      "text/plain": [
       "       Date                        Status Fulfilment Sales Channel   \\\n",
       "0  04-30-22                     Cancelled   Merchant      Amazon.in   \n",
       "1  04-30-22  Shipped - Delivered to Buyer   Merchant      Amazon.in   \n",
       "2  04-30-22                       Shipped     Amazon      Amazon.in   \n",
       "3  04-30-22                     Cancelled   Merchant      Amazon.in   \n",
       "4  04-30-22                       Shipped     Amazon      Amazon.in   \n",
       "\n",
       "        Category Size        ASIN Courier Status  Qty  Amount    ship-city  \\\n",
       "0            Set    S  B09KXVBD7Z            NaN    0  647.62       MUMBAI   \n",
       "1          kurta  3XL  B09K3WFS32        Shipped    1  406.00    BENGALURU   \n",
       "2          kurta   XL  B07WV4JV4D        Shipped    1  329.00  NAVI MUMBAI   \n",
       "3  Western Dress    L  B099NRCT7B            NaN    0  753.33   PUDUCHERRY   \n",
       "4            Top  3XL  B098714BZP        Shipped    1  574.00      CHENNAI   \n",
       "\n",
       "    ship-state fulfilled-by Unnamed: 22  \n",
       "0  MAHARASHTRA    Easy Ship         NaN  \n",
       "1    KARNATAKA    Easy Ship         NaN  \n",
       "2  MAHARASHTRA          NaN         NaN  \n",
       "3   PUDUCHERRY    Easy Ship         NaN  \n",
       "4   TAMIL NADU          NaN         NaN  "
      ]
     },
     "execution_count": 16,
     "metadata": {},
     "output_type": "execute_result"
    }
   ],
   "source": [
    "df.head()"
   ]
  },
  {
   "cell_type": "code",
   "execution_count": 17,
   "metadata": {
    "id": "CPn_mMKYmqkt"
   },
   "outputs": [],
   "source": [
    "df.drop(columns=['ASIN','Unnamed: 22','fulfilled-by'],inplace=True)"
   ]
  },
  {
   "cell_type": "code",
   "execution_count": 18,
   "metadata": {
    "colab": {
     "base_uri": "https://localhost:8080/"
    },
    "id": "QTnnR0SdnJDX",
    "outputId": "86bbfcee-d65b-4bbb-b17a-761215c1ed0e"
   },
   "outputs": [
    {
     "data": {
      "text/plain": [
       "array(['Amazon.in', 'Non-Amazon'], dtype=object)"
      ]
     },
     "execution_count": 18,
     "metadata": {},
     "output_type": "execute_result"
    }
   ],
   "source": [
    "df['Sales Channel '].unique()"
   ]
  },
  {
   "cell_type": "code",
   "execution_count": 19,
   "metadata": {
    "colab": {
     "base_uri": "https://localhost:8080/"
    },
    "id": "L4CCOVhrnsOj",
    "outputId": "b572cf31-8603-4bc5-d1ea-5922759879eb"
   },
   "outputs": [
    {
     "data": {
      "text/plain": [
       "Sales Channel \n",
       "Amazon.in     128851\n",
       "Non-Amazon       124\n",
       "Name: count, dtype: int64"
      ]
     },
     "execution_count": 19,
     "metadata": {},
     "output_type": "execute_result"
    }
   ],
   "source": [
    "df['Sales Channel '].value_counts()"
   ]
  },
  {
   "cell_type": "code",
   "execution_count": 20,
   "metadata": {
    "colab": {
     "base_uri": "https://localhost:8080/",
     "height": 206
    },
    "id": "4OGGpROsn4SK",
    "outputId": "622a59e6-3941-461e-dc86-4200b9a5554b"
   },
   "outputs": [
    {
     "data": {
      "text/html": [
       "<div>\n",
       "<style scoped>\n",
       "    .dataframe tbody tr th:only-of-type {\n",
       "        vertical-align: middle;\n",
       "    }\n",
       "\n",
       "    .dataframe tbody tr th {\n",
       "        vertical-align: top;\n",
       "    }\n",
       "\n",
       "    .dataframe thead th {\n",
       "        text-align: right;\n",
       "    }\n",
       "</style>\n",
       "<table border=\"1\" class=\"dataframe\">\n",
       "  <thead>\n",
       "    <tr style=\"text-align: right;\">\n",
       "      <th></th>\n",
       "      <th>Date</th>\n",
       "      <th>Status</th>\n",
       "      <th>Fulfilment</th>\n",
       "      <th>Sales Channel</th>\n",
       "      <th>Category</th>\n",
       "      <th>Size</th>\n",
       "      <th>Courier Status</th>\n",
       "      <th>Qty</th>\n",
       "      <th>Amount</th>\n",
       "      <th>ship-city</th>\n",
       "      <th>ship-state</th>\n",
       "    </tr>\n",
       "  </thead>\n",
       "  <tbody>\n",
       "    <tr>\n",
       "      <th>0</th>\n",
       "      <td>04-30-22</td>\n",
       "      <td>Cancelled</td>\n",
       "      <td>Merchant</td>\n",
       "      <td>Amazon.in</td>\n",
       "      <td>Set</td>\n",
       "      <td>S</td>\n",
       "      <td>NaN</td>\n",
       "      <td>0</td>\n",
       "      <td>647.62</td>\n",
       "      <td>MUMBAI</td>\n",
       "      <td>MAHARASHTRA</td>\n",
       "    </tr>\n",
       "    <tr>\n",
       "      <th>1</th>\n",
       "      <td>04-30-22</td>\n",
       "      <td>Shipped - Delivered to Buyer</td>\n",
       "      <td>Merchant</td>\n",
       "      <td>Amazon.in</td>\n",
       "      <td>kurta</td>\n",
       "      <td>3XL</td>\n",
       "      <td>Shipped</td>\n",
       "      <td>1</td>\n",
       "      <td>406.00</td>\n",
       "      <td>BENGALURU</td>\n",
       "      <td>KARNATAKA</td>\n",
       "    </tr>\n",
       "    <tr>\n",
       "      <th>2</th>\n",
       "      <td>04-30-22</td>\n",
       "      <td>Shipped</td>\n",
       "      <td>Amazon</td>\n",
       "      <td>Amazon.in</td>\n",
       "      <td>kurta</td>\n",
       "      <td>XL</td>\n",
       "      <td>Shipped</td>\n",
       "      <td>1</td>\n",
       "      <td>329.00</td>\n",
       "      <td>NAVI MUMBAI</td>\n",
       "      <td>MAHARASHTRA</td>\n",
       "    </tr>\n",
       "    <tr>\n",
       "      <th>3</th>\n",
       "      <td>04-30-22</td>\n",
       "      <td>Cancelled</td>\n",
       "      <td>Merchant</td>\n",
       "      <td>Amazon.in</td>\n",
       "      <td>Western Dress</td>\n",
       "      <td>L</td>\n",
       "      <td>NaN</td>\n",
       "      <td>0</td>\n",
       "      <td>753.33</td>\n",
       "      <td>PUDUCHERRY</td>\n",
       "      <td>PUDUCHERRY</td>\n",
       "    </tr>\n",
       "    <tr>\n",
       "      <th>4</th>\n",
       "      <td>04-30-22</td>\n",
       "      <td>Shipped</td>\n",
       "      <td>Amazon</td>\n",
       "      <td>Amazon.in</td>\n",
       "      <td>Top</td>\n",
       "      <td>3XL</td>\n",
       "      <td>Shipped</td>\n",
       "      <td>1</td>\n",
       "      <td>574.00</td>\n",
       "      <td>CHENNAI</td>\n",
       "      <td>TAMIL NADU</td>\n",
       "    </tr>\n",
       "  </tbody>\n",
       "</table>\n",
       "</div>"
      ],
      "text/plain": [
       "       Date                        Status Fulfilment Sales Channel   \\\n",
       "0  04-30-22                     Cancelled   Merchant      Amazon.in   \n",
       "1  04-30-22  Shipped - Delivered to Buyer   Merchant      Amazon.in   \n",
       "2  04-30-22                       Shipped     Amazon      Amazon.in   \n",
       "3  04-30-22                     Cancelled   Merchant      Amazon.in   \n",
       "4  04-30-22                       Shipped     Amazon      Amazon.in   \n",
       "\n",
       "        Category Size Courier Status  Qty  Amount    ship-city   ship-state  \n",
       "0            Set    S            NaN    0  647.62       MUMBAI  MAHARASHTRA  \n",
       "1          kurta  3XL        Shipped    1  406.00    BENGALURU    KARNATAKA  \n",
       "2          kurta   XL        Shipped    1  329.00  NAVI MUMBAI  MAHARASHTRA  \n",
       "3  Western Dress    L            NaN    0  753.33   PUDUCHERRY   PUDUCHERRY  \n",
       "4            Top  3XL        Shipped    1  574.00      CHENNAI   TAMIL NADU  "
      ]
     },
     "execution_count": 20,
     "metadata": {},
     "output_type": "execute_result"
    }
   ],
   "source": [
    "df.head()"
   ]
  },
  {
   "cell_type": "code",
   "execution_count": 21,
   "metadata": {
    "colab": {
     "base_uri": "https://localhost:8080/"
    },
    "id": "3Waoy9X9oDRc",
    "outputId": "65c42d6b-95d5-435e-e654-5b903985202e"
   },
   "outputs": [
    {
     "data": {
      "text/plain": [
       "count    128975.000000\n",
       "mean          0.904431\n",
       "std           0.313354\n",
       "min           0.000000\n",
       "25%           1.000000\n",
       "50%           1.000000\n",
       "75%           1.000000\n",
       "max          15.000000\n",
       "Name: Qty, dtype: float64"
      ]
     },
     "execution_count": 21,
     "metadata": {},
     "output_type": "execute_result"
    }
   ],
   "source": [
    "# show summary stats like minimum,maximum,mean,std,and quatile value for a particular columns Note : it only show the stats on numerical value\n",
    "df['Qty'].describe()"
   ]
  },
  {
   "cell_type": "code",
   "execution_count": 22,
   "metadata": {
    "colab": {
     "base_uri": "https://localhost:8080/"
    },
    "id": "j25hwZtlpNOo",
    "outputId": "a2e25f30-1574-4848-d9fb-76328a69d71f"
   },
   "outputs": [
    {
     "data": {
      "text/plain": [
       "array(['04-30-22', '04-29-22', '04-28-22', '04-27-22', '04-26-22',\n",
       "       '04-25-22', '04-24-22', '04-23-22', '04-22-22', '04-21-22',\n",
       "       '04-20-22', '04-19-22', '04-18-22', '04-17-22', '04-16-22',\n",
       "       '04-15-22', '04-14-22', '04-13-22', '04-12-22', '04-11-22',\n",
       "       '04-10-22', '04-09-22', '04-08-22', '04-07-22', '04-06-22',\n",
       "       '04-05-22', '04-04-22', '04-03-22', '04-02-22', '04-01-22',\n",
       "       '03-31-22', '05-31-22', '05-30-22', '05-29-22', '05-28-22',\n",
       "       '05-27-22', '05-26-22', '05-25-22', '05-24-22', '05-23-22',\n",
       "       '05-22-22', '05-21-22', '05-20-22', '05-19-22', '05-18-22',\n",
       "       '05-17-22', '05-16-22', '05-15-22', '05-14-22', '05-13-22',\n",
       "       '05-12-22', '05-11-22', '05-10-22', '05-09-22', '05-08-22',\n",
       "       '05-07-22', '05-06-22', '05-05-22', '05-04-22', '05-03-22',\n",
       "       '05-02-22', '05-01-22', '06-29-22', '06-28-22', '06-27-22',\n",
       "       '06-26-22', '06-25-22', '06-24-22', '06-23-22', '06-22-22',\n",
       "       '06-21-22', '06-20-22', '06-19-22', '06-18-22', '06-17-22',\n",
       "       '06-16-22', '06-15-22', '06-14-22', '06-13-22', '06-12-22',\n",
       "       '06-11-22', '06-10-22', '06-09-22', '06-08-22', '06-07-22',\n",
       "       '06-06-22', '06-05-22', '06-04-22', '06-03-22', '06-02-22',\n",
       "       '06-01-22'], dtype=object)"
      ]
     },
     "execution_count": 22,
     "metadata": {},
     "output_type": "execute_result"
    }
   ],
   "source": [
    "df['Date'].unique()"
   ]
  },
  {
   "cell_type": "code",
   "execution_count": 23,
   "metadata": {
    "colab": {
     "base_uri": "https://localhost:8080/"
    },
    "id": "TCKd8DHGxRKL",
    "outputId": "d1664c78-95b2-46f5-95b9-41230e3ca224"
   },
   "outputs": [
    {
     "data": {
      "text/plain": [
       "Date\n",
       "05-03-22    2085\n",
       "05-02-22    2079\n",
       "05-04-22    2015\n",
       "04-14-22    1883\n",
       "04-15-22    1853\n",
       "            ... \n",
       "06-23-22    1090\n",
       "06-24-22    1028\n",
       "06-25-22    1026\n",
       "06-29-22     658\n",
       "03-31-22     171\n",
       "Name: count, Length: 91, dtype: int64"
      ]
     },
     "execution_count": 23,
     "metadata": {},
     "output_type": "execute_result"
    }
   ],
   "source": [
    "df['Date'].value_counts()\n"
   ]
  },
  {
   "cell_type": "code",
   "execution_count": 24,
   "metadata": {
    "colab": {
     "base_uri": "https://localhost:8080/"
    },
    "id": "PDe-k9-3xY3c",
    "outputId": "d150344f-aa2e-495a-8740-4736d5330bd1"
   },
   "outputs": [
    {
     "name": "stdout",
     "output_type": "stream",
     "text": [
      "<class 'pandas.core.frame.DataFrame'>\n",
      "RangeIndex: 128975 entries, 0 to 128974\n",
      "Data columns (total 11 columns):\n",
      " #   Column          Non-Null Count   Dtype  \n",
      "---  ------          --------------   -----  \n",
      " 0   Date            128975 non-null  object \n",
      " 1   Status          128975 non-null  object \n",
      " 2   Fulfilment      128975 non-null  object \n",
      " 3   Sales Channel   128975 non-null  object \n",
      " 4   Category        128975 non-null  object \n",
      " 5   Size            128975 non-null  object \n",
      " 6   Courier Status  122103 non-null  object \n",
      " 7   Qty             128975 non-null  int64  \n",
      " 8   Amount          121180 non-null  float64\n",
      " 9   ship-city       128942 non-null  object \n",
      " 10  ship-state      128942 non-null  object \n",
      "dtypes: float64(1), int64(1), object(9)\n",
      "memory usage: 10.8+ MB\n"
     ]
    }
   ],
   "source": [
    "df.info()"
   ]
  },
  {
   "cell_type": "code",
   "execution_count": 25,
   "metadata": {
    "colab": {
     "base_uri": "https://localhost:8080/"
    },
    "id": "OrouSVn_ypd8",
    "outputId": "02abcd5a-b1e9-4991-98b0-840e9a261bc4"
   },
   "outputs": [
    {
     "data": {
      "text/plain": [
       "Date                 0\n",
       "Status               0\n",
       "Fulfilment           0\n",
       "Sales Channel        0\n",
       "Category             0\n",
       "Size                 0\n",
       "Courier Status    6872\n",
       "Qty                  0\n",
       "Amount            7795\n",
       "ship-city           33\n",
       "ship-state          33\n",
       "dtype: int64"
      ]
     },
     "execution_count": 25,
     "metadata": {},
     "output_type": "execute_result"
    }
   ],
   "source": [
    "df.isna().sum()"
   ]
  },
  {
   "cell_type": "code",
   "execution_count": 26,
   "metadata": {
    "id": "QQmSna5HyvIG"
   },
   "outputs": [],
   "source": [
    "# importing datetime to convert the Date column (i.e object) into Date datatype\n",
    "from datetime import datetime"
   ]
  },
  {
   "cell_type": "code",
   "execution_count": 27,
   "metadata": {
    "id": "nkdZ11BLzJS5"
   },
   "outputs": [
    {
     "name": "stderr",
     "output_type": "stream",
     "text": [
      "C:\\Users\\gauri\\AppData\\Local\\Temp\\ipykernel_16440\\1288347529.py:1: UserWarning: Could not infer format, so each element will be parsed individually, falling back to `dateutil`. To ensure parsing is consistent and as-expected, please specify a format.\n",
      "  df['Date']=pd.to_datetime(df['Date'],dayfirst=True)\n"
     ]
    }
   ],
   "source": [
    "df['Date']=pd.to_datetime(df['Date'],dayfirst=True)"
   ]
  },
  {
   "cell_type": "code",
   "execution_count": 28,
   "metadata": {
    "colab": {
     "base_uri": "https://localhost:8080/"
    },
    "id": "-bODdGlTzdf7",
    "outputId": "956ad130-d42e-478f-ab54-ccefbad4c35e"
   },
   "outputs": [
    {
     "name": "stdout",
     "output_type": "stream",
     "text": [
      "<class 'pandas.core.frame.DataFrame'>\n",
      "RangeIndex: 128975 entries, 0 to 128974\n",
      "Data columns (total 11 columns):\n",
      " #   Column          Non-Null Count   Dtype         \n",
      "---  ------          --------------   -----         \n",
      " 0   Date            128975 non-null  datetime64[ns]\n",
      " 1   Status          128975 non-null  object        \n",
      " 2   Fulfilment      128975 non-null  object        \n",
      " 3   Sales Channel   128975 non-null  object        \n",
      " 4   Category        128975 non-null  object        \n",
      " 5   Size            128975 non-null  object        \n",
      " 6   Courier Status  122103 non-null  object        \n",
      " 7   Qty             128975 non-null  int64         \n",
      " 8   Amount          121180 non-null  float64       \n",
      " 9   ship-city       128942 non-null  object        \n",
      " 10  ship-state      128942 non-null  object        \n",
      "dtypes: datetime64[ns](1), float64(1), int64(1), object(8)\n",
      "memory usage: 10.8+ MB\n"
     ]
    }
   ],
   "source": [
    "df.info()"
   ]
  },
  {
   "cell_type": "code",
   "execution_count": 29,
   "metadata": {
    "colab": {
     "base_uri": "https://localhost:8080/"
    },
    "id": "Hc5jC2blzji9",
    "outputId": "ea4ad250-aeac-4a70-9118-c59a439809dc"
   },
   "outputs": [
    {
     "data": {
      "text/plain": [
       "pandas.core.series.Series"
      ]
     },
     "execution_count": 29,
     "metadata": {},
     "output_type": "execute_result"
    }
   ],
   "source": [
    "type(df['Date'])"
   ]
  },
  {
   "cell_type": "code",
   "execution_count": 29,
   "metadata": {
    "colab": {
     "base_uri": "https://localhost:8080/"
    },
    "id": "I7JCq3lYzrsE",
    "outputId": "c9197833-636c-4ab7-e6d8-e6708aa77d8f"
   },
   "outputs": [
    {
     "data": {
      "text/plain": [
       "Date              datetime64[ns]\n",
       "Status                    object\n",
       "Fulfilment                object\n",
       "Sales Channel             object\n",
       "Category                  object\n",
       "Size                      object\n",
       "Courier Status            object\n",
       "Qty                        int64\n",
       "Amount                   float64\n",
       "ship-city                 object\n",
       "ship-state                object\n",
       "dtype: object"
      ]
     },
     "execution_count": 29,
     "metadata": {},
     "output_type": "execute_result"
    }
   ],
   "source": [
    "df.dtypes"
   ]
  },
  {
   "cell_type": "code",
   "execution_count": 30,
   "metadata": {
    "colab": {
     "base_uri": "https://localhost:8080/",
     "height": 206
    },
    "id": "6I04qnyrzyT9",
    "outputId": "48509033-a469-48e4-95e4-b379416b4875"
   },
   "outputs": [
    {
     "data": {
      "text/html": [
       "<div>\n",
       "<style scoped>\n",
       "    .dataframe tbody tr th:only-of-type {\n",
       "        vertical-align: middle;\n",
       "    }\n",
       "\n",
       "    .dataframe tbody tr th {\n",
       "        vertical-align: top;\n",
       "    }\n",
       "\n",
       "    .dataframe thead th {\n",
       "        text-align: right;\n",
       "    }\n",
       "</style>\n",
       "<table border=\"1\" class=\"dataframe\">\n",
       "  <thead>\n",
       "    <tr style=\"text-align: right;\">\n",
       "      <th></th>\n",
       "      <th>Date</th>\n",
       "      <th>Status</th>\n",
       "      <th>Fulfilment</th>\n",
       "      <th>Sales Channel</th>\n",
       "      <th>Category</th>\n",
       "      <th>Size</th>\n",
       "      <th>Courier Status</th>\n",
       "      <th>Qty</th>\n",
       "      <th>Amount</th>\n",
       "      <th>ship-city</th>\n",
       "      <th>ship-state</th>\n",
       "    </tr>\n",
       "  </thead>\n",
       "  <tbody>\n",
       "    <tr>\n",
       "      <th>0</th>\n",
       "      <td>2022-04-30</td>\n",
       "      <td>Cancelled</td>\n",
       "      <td>Merchant</td>\n",
       "      <td>Amazon.in</td>\n",
       "      <td>Set</td>\n",
       "      <td>S</td>\n",
       "      <td>NaN</td>\n",
       "      <td>0</td>\n",
       "      <td>647.62</td>\n",
       "      <td>MUMBAI</td>\n",
       "      <td>MAHARASHTRA</td>\n",
       "    </tr>\n",
       "    <tr>\n",
       "      <th>1</th>\n",
       "      <td>2022-04-30</td>\n",
       "      <td>Shipped - Delivered to Buyer</td>\n",
       "      <td>Merchant</td>\n",
       "      <td>Amazon.in</td>\n",
       "      <td>kurta</td>\n",
       "      <td>3XL</td>\n",
       "      <td>Shipped</td>\n",
       "      <td>1</td>\n",
       "      <td>406.00</td>\n",
       "      <td>BENGALURU</td>\n",
       "      <td>KARNATAKA</td>\n",
       "    </tr>\n",
       "    <tr>\n",
       "      <th>2</th>\n",
       "      <td>2022-04-30</td>\n",
       "      <td>Shipped</td>\n",
       "      <td>Amazon</td>\n",
       "      <td>Amazon.in</td>\n",
       "      <td>kurta</td>\n",
       "      <td>XL</td>\n",
       "      <td>Shipped</td>\n",
       "      <td>1</td>\n",
       "      <td>329.00</td>\n",
       "      <td>NAVI MUMBAI</td>\n",
       "      <td>MAHARASHTRA</td>\n",
       "    </tr>\n",
       "    <tr>\n",
       "      <th>3</th>\n",
       "      <td>2022-04-30</td>\n",
       "      <td>Cancelled</td>\n",
       "      <td>Merchant</td>\n",
       "      <td>Amazon.in</td>\n",
       "      <td>Western Dress</td>\n",
       "      <td>L</td>\n",
       "      <td>NaN</td>\n",
       "      <td>0</td>\n",
       "      <td>753.33</td>\n",
       "      <td>PUDUCHERRY</td>\n",
       "      <td>PUDUCHERRY</td>\n",
       "    </tr>\n",
       "    <tr>\n",
       "      <th>4</th>\n",
       "      <td>2022-04-30</td>\n",
       "      <td>Shipped</td>\n",
       "      <td>Amazon</td>\n",
       "      <td>Amazon.in</td>\n",
       "      <td>Top</td>\n",
       "      <td>3XL</td>\n",
       "      <td>Shipped</td>\n",
       "      <td>1</td>\n",
       "      <td>574.00</td>\n",
       "      <td>CHENNAI</td>\n",
       "      <td>TAMIL NADU</td>\n",
       "    </tr>\n",
       "  </tbody>\n",
       "</table>\n",
       "</div>"
      ],
      "text/plain": [
       "        Date                        Status Fulfilment Sales Channel   \\\n",
       "0 2022-04-30                     Cancelled   Merchant      Amazon.in   \n",
       "1 2022-04-30  Shipped - Delivered to Buyer   Merchant      Amazon.in   \n",
       "2 2022-04-30                       Shipped     Amazon      Amazon.in   \n",
       "3 2022-04-30                     Cancelled   Merchant      Amazon.in   \n",
       "4 2022-04-30                       Shipped     Amazon      Amazon.in   \n",
       "\n",
       "        Category Size Courier Status  Qty  Amount    ship-city   ship-state  \n",
       "0            Set    S            NaN    0  647.62       MUMBAI  MAHARASHTRA  \n",
       "1          kurta  3XL        Shipped    1  406.00    BENGALURU    KARNATAKA  \n",
       "2          kurta   XL        Shipped    1  329.00  NAVI MUMBAI  MAHARASHTRA  \n",
       "3  Western Dress    L            NaN    0  753.33   PUDUCHERRY   PUDUCHERRY  \n",
       "4            Top  3XL        Shipped    1  574.00      CHENNAI   TAMIL NADU  "
      ]
     },
     "execution_count": 30,
     "metadata": {},
     "output_type": "execute_result"
    }
   ],
   "source": [
    "df.head()"
   ]
  },
  {
   "cell_type": "code",
   "execution_count": 31,
   "metadata": {
    "id": "1QimlGUT0bgC"
   },
   "outputs": [],
   "source": [
    "# it extracts the month only\n",
    "df['month']=df['Date'].dt.month"
   ]
  },
  {
   "cell_type": "code",
   "execution_count": 33,
   "metadata": {
    "colab": {
     "base_uri": "https://localhost:8080/",
     "height": 206
    },
    "id": "IvVFD3Gy07Im",
    "outputId": "a978c8bd-f4ee-439a-90e6-9e96542ef691"
   },
   "outputs": [
    {
     "data": {
      "text/html": [
       "\n",
       "  <div id=\"df-0e9f4ecf-f1cd-4e46-ad3e-c1e572969509\" class=\"colab-df-container\">\n",
       "    <div>\n",
       "<style scoped>\n",
       "    .dataframe tbody tr th:only-of-type {\n",
       "        vertical-align: middle;\n",
       "    }\n",
       "\n",
       "    .dataframe tbody tr th {\n",
       "        vertical-align: top;\n",
       "    }\n",
       "\n",
       "    .dataframe thead th {\n",
       "        text-align: right;\n",
       "    }\n",
       "</style>\n",
       "<table border=\"1\" class=\"dataframe\">\n",
       "  <thead>\n",
       "    <tr style=\"text-align: right;\">\n",
       "      <th></th>\n",
       "      <th>Date</th>\n",
       "      <th>Status</th>\n",
       "      <th>Fulfilment</th>\n",
       "      <th>Sales Channel</th>\n",
       "      <th>Category</th>\n",
       "      <th>Size</th>\n",
       "      <th>Courier Status</th>\n",
       "      <th>Qty</th>\n",
       "      <th>Amount</th>\n",
       "      <th>ship-city</th>\n",
       "      <th>ship-state</th>\n",
       "      <th>month</th>\n",
       "    </tr>\n",
       "  </thead>\n",
       "  <tbody>\n",
       "    <tr>\n",
       "      <th>0</th>\n",
       "      <td>2022-04-30</td>\n",
       "      <td>Cancelled</td>\n",
       "      <td>Merchant</td>\n",
       "      <td>Amazon.in</td>\n",
       "      <td>Set</td>\n",
       "      <td>S</td>\n",
       "      <td>NaN</td>\n",
       "      <td>0</td>\n",
       "      <td>647.62</td>\n",
       "      <td>MUMBAI</td>\n",
       "      <td>MAHARASHTRA</td>\n",
       "      <td>4</td>\n",
       "    </tr>\n",
       "    <tr>\n",
       "      <th>1</th>\n",
       "      <td>2022-04-30</td>\n",
       "      <td>Shipped - Delivered to Buyer</td>\n",
       "      <td>Merchant</td>\n",
       "      <td>Amazon.in</td>\n",
       "      <td>kurta</td>\n",
       "      <td>3XL</td>\n",
       "      <td>Shipped</td>\n",
       "      <td>1</td>\n",
       "      <td>406.00</td>\n",
       "      <td>BENGALURU</td>\n",
       "      <td>KARNATAKA</td>\n",
       "      <td>4</td>\n",
       "    </tr>\n",
       "    <tr>\n",
       "      <th>2</th>\n",
       "      <td>2022-04-30</td>\n",
       "      <td>Shipped</td>\n",
       "      <td>Amazon</td>\n",
       "      <td>Amazon.in</td>\n",
       "      <td>kurta</td>\n",
       "      <td>XL</td>\n",
       "      <td>Shipped</td>\n",
       "      <td>1</td>\n",
       "      <td>329.00</td>\n",
       "      <td>NAVI MUMBAI</td>\n",
       "      <td>MAHARASHTRA</td>\n",
       "      <td>4</td>\n",
       "    </tr>\n",
       "    <tr>\n",
       "      <th>3</th>\n",
       "      <td>2022-04-30</td>\n",
       "      <td>Cancelled</td>\n",
       "      <td>Merchant</td>\n",
       "      <td>Amazon.in</td>\n",
       "      <td>Western Dress</td>\n",
       "      <td>L</td>\n",
       "      <td>NaN</td>\n",
       "      <td>0</td>\n",
       "      <td>753.33</td>\n",
       "      <td>PUDUCHERRY</td>\n",
       "      <td>PUDUCHERRY</td>\n",
       "      <td>4</td>\n",
       "    </tr>\n",
       "    <tr>\n",
       "      <th>4</th>\n",
       "      <td>2022-04-30</td>\n",
       "      <td>Shipped</td>\n",
       "      <td>Amazon</td>\n",
       "      <td>Amazon.in</td>\n",
       "      <td>Top</td>\n",
       "      <td>3XL</td>\n",
       "      <td>Shipped</td>\n",
       "      <td>1</td>\n",
       "      <td>574.00</td>\n",
       "      <td>CHENNAI</td>\n",
       "      <td>TAMIL NADU</td>\n",
       "      <td>4</td>\n",
       "    </tr>\n",
       "  </tbody>\n",
       "</table>\n",
       "</div>\n",
       "    <div class=\"colab-df-buttons\">\n",
       "\n",
       "  <div class=\"colab-df-container\">\n",
       "    <button class=\"colab-df-convert\" onclick=\"convertToInteractive('df-0e9f4ecf-f1cd-4e46-ad3e-c1e572969509')\"\n",
       "            title=\"Convert this dataframe to an interactive table.\"\n",
       "            style=\"display:none;\">\n",
       "\n",
       "  <svg xmlns=\"http://www.w3.org/2000/svg\" height=\"24px\" viewBox=\"0 -960 960 960\">\n",
       "    <path d=\"M120-120v-720h720v720H120Zm60-500h600v-160H180v160Zm220 220h160v-160H400v160Zm0 220h160v-160H400v160ZM180-400h160v-160H180v160Zm440 0h160v-160H620v160ZM180-180h160v-160H180v160Zm440 0h160v-160H620v160Z\"/>\n",
       "  </svg>\n",
       "    </button>\n",
       "\n",
       "  <style>\n",
       "    .colab-df-container {\n",
       "      display:flex;\n",
       "      gap: 12px;\n",
       "    }\n",
       "\n",
       "    .colab-df-convert {\n",
       "      background-color: #E8F0FE;\n",
       "      border: none;\n",
       "      border-radius: 50%;\n",
       "      cursor: pointer;\n",
       "      display: none;\n",
       "      fill: #1967D2;\n",
       "      height: 32px;\n",
       "      padding: 0 0 0 0;\n",
       "      width: 32px;\n",
       "    }\n",
       "\n",
       "    .colab-df-convert:hover {\n",
       "      background-color: #E2EBFA;\n",
       "      box-shadow: 0px 1px 2px rgba(60, 64, 67, 0.3), 0px 1px 3px 1px rgba(60, 64, 67, 0.15);\n",
       "      fill: #174EA6;\n",
       "    }\n",
       "\n",
       "    .colab-df-buttons div {\n",
       "      margin-bottom: 4px;\n",
       "    }\n",
       "\n",
       "    [theme=dark] .colab-df-convert {\n",
       "      background-color: #3B4455;\n",
       "      fill: #D2E3FC;\n",
       "    }\n",
       "\n",
       "    [theme=dark] .colab-df-convert:hover {\n",
       "      background-color: #434B5C;\n",
       "      box-shadow: 0px 1px 3px 1px rgba(0, 0, 0, 0.15);\n",
       "      filter: drop-shadow(0px 1px 2px rgba(0, 0, 0, 0.3));\n",
       "      fill: #FFFFFF;\n",
       "    }\n",
       "  </style>\n",
       "\n",
       "    <script>\n",
       "      const buttonEl =\n",
       "        document.querySelector('#df-0e9f4ecf-f1cd-4e46-ad3e-c1e572969509 button.colab-df-convert');\n",
       "      buttonEl.style.display =\n",
       "        google.colab.kernel.accessAllowed ? 'block' : 'none';\n",
       "\n",
       "      async function convertToInteractive(key) {\n",
       "        const element = document.querySelector('#df-0e9f4ecf-f1cd-4e46-ad3e-c1e572969509');\n",
       "        const dataTable =\n",
       "          await google.colab.kernel.invokeFunction('convertToInteractive',\n",
       "                                                    [key], {});\n",
       "        if (!dataTable) return;\n",
       "\n",
       "        const docLinkHtml = 'Like what you see? Visit the ' +\n",
       "          '<a target=\"_blank\" href=https://colab.research.google.com/notebooks/data_table.ipynb>data table notebook</a>'\n",
       "          + ' to learn more about interactive tables.';\n",
       "        element.innerHTML = '';\n",
       "        dataTable['output_type'] = 'display_data';\n",
       "        await google.colab.output.renderOutput(dataTable, element);\n",
       "        const docLink = document.createElement('div');\n",
       "        docLink.innerHTML = docLinkHtml;\n",
       "        element.appendChild(docLink);\n",
       "      }\n",
       "    </script>\n",
       "  </div>\n",
       "\n",
       "\n",
       "<div id=\"df-bd0dbe79-de5d-43fe-b706-35fe8fa61438\">\n",
       "  <button class=\"colab-df-quickchart\" onclick=\"quickchart('df-bd0dbe79-de5d-43fe-b706-35fe8fa61438')\"\n",
       "            title=\"Suggest charts\"\n",
       "            style=\"display:none;\">\n",
       "\n",
       "<svg xmlns=\"http://www.w3.org/2000/svg\" height=\"24px\"viewBox=\"0 0 24 24\"\n",
       "     width=\"24px\">\n",
       "    <g>\n",
       "        <path d=\"M19 3H5c-1.1 0-2 .9-2 2v14c0 1.1.9 2 2 2h14c1.1 0 2-.9 2-2V5c0-1.1-.9-2-2-2zM9 17H7v-7h2v7zm4 0h-2V7h2v10zm4 0h-2v-4h2v4z\"/>\n",
       "    </g>\n",
       "</svg>\n",
       "  </button>\n",
       "\n",
       "<style>\n",
       "  .colab-df-quickchart {\n",
       "      --bg-color: #E8F0FE;\n",
       "      --fill-color: #1967D2;\n",
       "      --hover-bg-color: #E2EBFA;\n",
       "      --hover-fill-color: #174EA6;\n",
       "      --disabled-fill-color: #AAA;\n",
       "      --disabled-bg-color: #DDD;\n",
       "  }\n",
       "\n",
       "  [theme=dark] .colab-df-quickchart {\n",
       "      --bg-color: #3B4455;\n",
       "      --fill-color: #D2E3FC;\n",
       "      --hover-bg-color: #434B5C;\n",
       "      --hover-fill-color: #FFFFFF;\n",
       "      --disabled-bg-color: #3B4455;\n",
       "      --disabled-fill-color: #666;\n",
       "  }\n",
       "\n",
       "  .colab-df-quickchart {\n",
       "    background-color: var(--bg-color);\n",
       "    border: none;\n",
       "    border-radius: 50%;\n",
       "    cursor: pointer;\n",
       "    display: none;\n",
       "    fill: var(--fill-color);\n",
       "    height: 32px;\n",
       "    padding: 0;\n",
       "    width: 32px;\n",
       "  }\n",
       "\n",
       "  .colab-df-quickchart:hover {\n",
       "    background-color: var(--hover-bg-color);\n",
       "    box-shadow: 0 1px 2px rgba(60, 64, 67, 0.3), 0 1px 3px 1px rgba(60, 64, 67, 0.15);\n",
       "    fill: var(--button-hover-fill-color);\n",
       "  }\n",
       "\n",
       "  .colab-df-quickchart-complete:disabled,\n",
       "  .colab-df-quickchart-complete:disabled:hover {\n",
       "    background-color: var(--disabled-bg-color);\n",
       "    fill: var(--disabled-fill-color);\n",
       "    box-shadow: none;\n",
       "  }\n",
       "\n",
       "  .colab-df-spinner {\n",
       "    border: 2px solid var(--fill-color);\n",
       "    border-color: transparent;\n",
       "    border-bottom-color: var(--fill-color);\n",
       "    animation:\n",
       "      spin 1s steps(1) infinite;\n",
       "  }\n",
       "\n",
       "  @keyframes spin {\n",
       "    0% {\n",
       "      border-color: transparent;\n",
       "      border-bottom-color: var(--fill-color);\n",
       "      border-left-color: var(--fill-color);\n",
       "    }\n",
       "    20% {\n",
       "      border-color: transparent;\n",
       "      border-left-color: var(--fill-color);\n",
       "      border-top-color: var(--fill-color);\n",
       "    }\n",
       "    30% {\n",
       "      border-color: transparent;\n",
       "      border-left-color: var(--fill-color);\n",
       "      border-top-color: var(--fill-color);\n",
       "      border-right-color: var(--fill-color);\n",
       "    }\n",
       "    40% {\n",
       "      border-color: transparent;\n",
       "      border-right-color: var(--fill-color);\n",
       "      border-top-color: var(--fill-color);\n",
       "    }\n",
       "    60% {\n",
       "      border-color: transparent;\n",
       "      border-right-color: var(--fill-color);\n",
       "    }\n",
       "    80% {\n",
       "      border-color: transparent;\n",
       "      border-right-color: var(--fill-color);\n",
       "      border-bottom-color: var(--fill-color);\n",
       "    }\n",
       "    90% {\n",
       "      border-color: transparent;\n",
       "      border-bottom-color: var(--fill-color);\n",
       "    }\n",
       "  }\n",
       "</style>\n",
       "\n",
       "  <script>\n",
       "    async function quickchart(key) {\n",
       "      const quickchartButtonEl =\n",
       "        document.querySelector('#' + key + ' button');\n",
       "      quickchartButtonEl.disabled = true;  // To prevent multiple clicks.\n",
       "      quickchartButtonEl.classList.add('colab-df-spinner');\n",
       "      try {\n",
       "        const charts = await google.colab.kernel.invokeFunction(\n",
       "            'suggestCharts', [key], {});\n",
       "      } catch (error) {\n",
       "        console.error('Error during call to suggestCharts:', error);\n",
       "      }\n",
       "      quickchartButtonEl.classList.remove('colab-df-spinner');\n",
       "      quickchartButtonEl.classList.add('colab-df-quickchart-complete');\n",
       "    }\n",
       "    (() => {\n",
       "      let quickchartButtonEl =\n",
       "        document.querySelector('#df-bd0dbe79-de5d-43fe-b706-35fe8fa61438 button');\n",
       "      quickchartButtonEl.style.display =\n",
       "        google.colab.kernel.accessAllowed ? 'block' : 'none';\n",
       "    })();\n",
       "  </script>\n",
       "</div>\n",
       "\n",
       "    </div>\n",
       "  </div>\n"
      ],
      "text/plain": [
       "        Date                        Status Fulfilment Sales Channel   \\\n",
       "0 2022-04-30                     Cancelled   Merchant      Amazon.in   \n",
       "1 2022-04-30  Shipped - Delivered to Buyer   Merchant      Amazon.in   \n",
       "2 2022-04-30                       Shipped     Amazon      Amazon.in   \n",
       "3 2022-04-30                     Cancelled   Merchant      Amazon.in   \n",
       "4 2022-04-30                       Shipped     Amazon      Amazon.in   \n",
       "\n",
       "        Category Size Courier Status  Qty  Amount    ship-city   ship-state  \\\n",
       "0            Set    S            NaN    0  647.62       MUMBAI  MAHARASHTRA   \n",
       "1          kurta  3XL        Shipped    1  406.00    BENGALURU    KARNATAKA   \n",
       "2          kurta   XL        Shipped    1  329.00  NAVI MUMBAI  MAHARASHTRA   \n",
       "3  Western Dress    L            NaN    0  753.33   PUDUCHERRY   PUDUCHERRY   \n",
       "4            Top  3XL        Shipped    1  574.00      CHENNAI   TAMIL NADU   \n",
       "\n",
       "   month  \n",
       "0      4  \n",
       "1      4  \n",
       "2      4  \n",
       "3      4  \n",
       "4      4  "
      ]
     },
     "execution_count": 33,
     "metadata": {},
     "output_type": "execute_result"
    }
   ],
   "source": [
    "df.head()"
   ]
  },
  {
   "cell_type": "code",
   "execution_count": 32,
   "metadata": {
    "colab": {
     "base_uri": "https://localhost:8080/"
    },
    "id": "caQ6_ZfF087l",
    "outputId": "a129a1ad-2812-4557-f0d6-9f48c8caae83"
   },
   "outputs": [
    {
     "data": {
      "text/plain": [
       "month\n",
       "4     35030\n",
       "5     28182\n",
       "6     24546\n",
       "3      5175\n",
       "2      5046\n",
       "1      4802\n",
       "8      4740\n",
       "7      4503\n",
       "9      4496\n",
       "10     4211\n",
       "12     4133\n",
       "11     4111\n",
       "Name: count, dtype: int64"
      ]
     },
     "execution_count": 32,
     "metadata": {},
     "output_type": "execute_result"
    }
   ],
   "source": [
    "df['month'].value_counts()"
   ]
  },
  {
   "cell_type": "code",
   "execution_count": 33,
   "metadata": {
    "colab": {
     "base_uri": "https://localhost:8080/"
    },
    "id": "D8YwXMzI1MVI",
    "outputId": "560be3d7-449f-45de-82fa-d3fbd86b9080"
   },
   "outputs": [
    {
     "data": {
      "text/plain": [
       "dtype('int32')"
      ]
     },
     "execution_count": 33,
     "metadata": {},
     "output_type": "execute_result"
    }
   ],
   "source": [
    "df.month.dtype"
   ]
  },
  {
   "cell_type": "code",
   "execution_count": 34,
   "metadata": {
    "id": "d0-WqBBp1eNh"
   },
   "outputs": [],
   "source": [
    "# converting the datatype into string for month column\n",
    "df['month']=df['month'].astype('str')"
   ]
  },
  {
   "cell_type": "code",
   "execution_count": 35,
   "metadata": {
    "colab": {
     "base_uri": "https://localhost:8080/"
    },
    "id": "iZ5dFJbZ105k",
    "outputId": "9dbac015-e877-4b63-b8fe-f6509a459cbc"
   },
   "outputs": [
    {
     "name": "stdout",
     "output_type": "stream",
     "text": [
      "<class 'pandas.core.frame.DataFrame'>\n",
      "RangeIndex: 128975 entries, 0 to 128974\n",
      "Data columns (total 12 columns):\n",
      " #   Column          Non-Null Count   Dtype         \n",
      "---  ------          --------------   -----         \n",
      " 0   Date            128975 non-null  datetime64[ns]\n",
      " 1   Status          128975 non-null  object        \n",
      " 2   Fulfilment      128975 non-null  object        \n",
      " 3   Sales Channel   128975 non-null  object        \n",
      " 4   Category        128975 non-null  object        \n",
      " 5   Size            128975 non-null  object        \n",
      " 6   Courier Status  122103 non-null  object        \n",
      " 7   Qty             128975 non-null  int64         \n",
      " 8   Amount          121180 non-null  float64       \n",
      " 9   ship-city       128942 non-null  object        \n",
      " 10  ship-state      128942 non-null  object        \n",
      " 11  month           128975 non-null  object        \n",
      "dtypes: datetime64[ns](1), float64(1), int64(1), object(9)\n",
      "memory usage: 11.8+ MB\n"
     ]
    }
   ],
   "source": [
    "df.info()"
   ]
  },
  {
   "cell_type": "code",
   "execution_count": 36,
   "metadata": {
    "colab": {
     "base_uri": "https://localhost:8080/"
    },
    "id": "-6X5YEXi1-tO",
    "outputId": "68dc69fb-358f-46e4-8ed1-b05f7d95f175"
   },
   "outputs": [
    {
     "data": {
      "text/plain": [
       "month\n",
       "4     35030\n",
       "5     28182\n",
       "6     24546\n",
       "3      5175\n",
       "2      5046\n",
       "1      4802\n",
       "8      4740\n",
       "7      4503\n",
       "9      4496\n",
       "10     4211\n",
       "12     4133\n",
       "11     4111\n",
       "Name: count, dtype: int64"
      ]
     },
     "execution_count": 36,
     "metadata": {},
     "output_type": "execute_result"
    }
   ],
   "source": [
    "df.month.value_counts()"
   ]
  },
  {
   "cell_type": "code",
   "execution_count": 37,
   "metadata": {
    "id": "pViRR4072IMW"
   },
   "outputs": [],
   "source": [
    "df['month']=df['month'].replace({\"3\":\"March\",\"4\":\"April\",\"5\":\"May\",\"6\":\"June\"})"
   ]
  },
  {
   "cell_type": "code",
   "execution_count": 38,
   "metadata": {
    "colab": {
     "base_uri": "https://localhost:8080/",
     "height": 206
    },
    "id": "VEMcfKUH2jiv",
    "outputId": "616b22b8-dc21-4131-e621-badc5273e8b0"
   },
   "outputs": [
    {
     "data": {
      "text/html": [
       "<div>\n",
       "<style scoped>\n",
       "    .dataframe tbody tr th:only-of-type {\n",
       "        vertical-align: middle;\n",
       "    }\n",
       "\n",
       "    .dataframe tbody tr th {\n",
       "        vertical-align: top;\n",
       "    }\n",
       "\n",
       "    .dataframe thead th {\n",
       "        text-align: right;\n",
       "    }\n",
       "</style>\n",
       "<table border=\"1\" class=\"dataframe\">\n",
       "  <thead>\n",
       "    <tr style=\"text-align: right;\">\n",
       "      <th></th>\n",
       "      <th>Date</th>\n",
       "      <th>Status</th>\n",
       "      <th>Fulfilment</th>\n",
       "      <th>Sales Channel</th>\n",
       "      <th>Category</th>\n",
       "      <th>Size</th>\n",
       "      <th>Courier Status</th>\n",
       "      <th>Qty</th>\n",
       "      <th>Amount</th>\n",
       "      <th>ship-city</th>\n",
       "      <th>ship-state</th>\n",
       "      <th>month</th>\n",
       "    </tr>\n",
       "  </thead>\n",
       "  <tbody>\n",
       "    <tr>\n",
       "      <th>0</th>\n",
       "      <td>2022-04-30</td>\n",
       "      <td>Cancelled</td>\n",
       "      <td>Merchant</td>\n",
       "      <td>Amazon.in</td>\n",
       "      <td>Set</td>\n",
       "      <td>S</td>\n",
       "      <td>NaN</td>\n",
       "      <td>0</td>\n",
       "      <td>647.62</td>\n",
       "      <td>MUMBAI</td>\n",
       "      <td>MAHARASHTRA</td>\n",
       "      <td>April</td>\n",
       "    </tr>\n",
       "    <tr>\n",
       "      <th>1</th>\n",
       "      <td>2022-04-30</td>\n",
       "      <td>Shipped - Delivered to Buyer</td>\n",
       "      <td>Merchant</td>\n",
       "      <td>Amazon.in</td>\n",
       "      <td>kurta</td>\n",
       "      <td>3XL</td>\n",
       "      <td>Shipped</td>\n",
       "      <td>1</td>\n",
       "      <td>406.00</td>\n",
       "      <td>BENGALURU</td>\n",
       "      <td>KARNATAKA</td>\n",
       "      <td>April</td>\n",
       "    </tr>\n",
       "    <tr>\n",
       "      <th>2</th>\n",
       "      <td>2022-04-30</td>\n",
       "      <td>Shipped</td>\n",
       "      <td>Amazon</td>\n",
       "      <td>Amazon.in</td>\n",
       "      <td>kurta</td>\n",
       "      <td>XL</td>\n",
       "      <td>Shipped</td>\n",
       "      <td>1</td>\n",
       "      <td>329.00</td>\n",
       "      <td>NAVI MUMBAI</td>\n",
       "      <td>MAHARASHTRA</td>\n",
       "      <td>April</td>\n",
       "    </tr>\n",
       "    <tr>\n",
       "      <th>3</th>\n",
       "      <td>2022-04-30</td>\n",
       "      <td>Cancelled</td>\n",
       "      <td>Merchant</td>\n",
       "      <td>Amazon.in</td>\n",
       "      <td>Western Dress</td>\n",
       "      <td>L</td>\n",
       "      <td>NaN</td>\n",
       "      <td>0</td>\n",
       "      <td>753.33</td>\n",
       "      <td>PUDUCHERRY</td>\n",
       "      <td>PUDUCHERRY</td>\n",
       "      <td>April</td>\n",
       "    </tr>\n",
       "    <tr>\n",
       "      <th>4</th>\n",
       "      <td>2022-04-30</td>\n",
       "      <td>Shipped</td>\n",
       "      <td>Amazon</td>\n",
       "      <td>Amazon.in</td>\n",
       "      <td>Top</td>\n",
       "      <td>3XL</td>\n",
       "      <td>Shipped</td>\n",
       "      <td>1</td>\n",
       "      <td>574.00</td>\n",
       "      <td>CHENNAI</td>\n",
       "      <td>TAMIL NADU</td>\n",
       "      <td>April</td>\n",
       "    </tr>\n",
       "  </tbody>\n",
       "</table>\n",
       "</div>"
      ],
      "text/plain": [
       "        Date                        Status Fulfilment Sales Channel   \\\n",
       "0 2022-04-30                     Cancelled   Merchant      Amazon.in   \n",
       "1 2022-04-30  Shipped - Delivered to Buyer   Merchant      Amazon.in   \n",
       "2 2022-04-30                       Shipped     Amazon      Amazon.in   \n",
       "3 2022-04-30                     Cancelled   Merchant      Amazon.in   \n",
       "4 2022-04-30                       Shipped     Amazon      Amazon.in   \n",
       "\n",
       "        Category Size Courier Status  Qty  Amount    ship-city   ship-state  \\\n",
       "0            Set    S            NaN    0  647.62       MUMBAI  MAHARASHTRA   \n",
       "1          kurta  3XL        Shipped    1  406.00    BENGALURU    KARNATAKA   \n",
       "2          kurta   XL        Shipped    1  329.00  NAVI MUMBAI  MAHARASHTRA   \n",
       "3  Western Dress    L            NaN    0  753.33   PUDUCHERRY   PUDUCHERRY   \n",
       "4            Top  3XL        Shipped    1  574.00      CHENNAI   TAMIL NADU   \n",
       "\n",
       "   month  \n",
       "0  April  \n",
       "1  April  \n",
       "2  April  \n",
       "3  April  \n",
       "4  April  "
      ]
     },
     "execution_count": 38,
     "metadata": {},
     "output_type": "execute_result"
    }
   ],
   "source": [
    "df.head()"
   ]
  },
  {
   "cell_type": "code",
   "execution_count": 39,
   "metadata": {
    "colab": {
     "base_uri": "https://localhost:8080/"
    },
    "id": "e9fP_PQL2lzK",
    "outputId": "e26426c7-5a2b-4622-f6d3-ec4b9770ec04"
   },
   "outputs": [
    {
     "data": {
      "text/plain": [
       "Date                 0\n",
       "Status               0\n",
       "Fulfilment           0\n",
       "Sales Channel        0\n",
       "Category             0\n",
       "Size                 0\n",
       "Courier Status    6872\n",
       "Qty                  0\n",
       "Amount            7795\n",
       "ship-city           33\n",
       "ship-state          33\n",
       "month                0\n",
       "dtype: int64"
      ]
     },
     "execution_count": 39,
     "metadata": {},
     "output_type": "execute_result"
    }
   ],
   "source": [
    "df.isna().sum()"
   ]
  },
  {
   "cell_type": "code",
   "execution_count": 40,
   "metadata": {
    "id": "AgjI9bhv2pCy"
   },
   "outputs": [],
   "source": [
    "df.columns=df.columns.str.lower()"
   ]
  },
  {
   "cell_type": "code",
   "execution_count": 41,
   "metadata": {
    "colab": {
     "base_uri": "https://localhost:8080/"
    },
    "id": "GHvUJ0Ci2xqT",
    "outputId": "d7d3b416-6f91-4024-def6-30f4ce583a55"
   },
   "outputs": [
    {
     "data": {
      "text/plain": [
       "Index(['date', 'status', 'fulfilment', 'sales channel ', 'category', 'size',\n",
       "       'courier status', 'qty', 'amount', 'ship-city', 'ship-state', 'month'],\n",
       "      dtype='object')"
      ]
     },
     "execution_count": 41,
     "metadata": {},
     "output_type": "execute_result"
    }
   ],
   "source": [
    "df.columns"
   ]
  },
  {
   "cell_type": "code",
   "execution_count": 42,
   "metadata": {
    "colab": {
     "base_uri": "https://localhost:8080/",
     "height": 206
    },
    "id": "P25irO062zRi",
    "outputId": "a28bbfbb-d32d-435a-a315-8a39cbaaaefc"
   },
   "outputs": [
    {
     "data": {
      "text/html": [
       "<div>\n",
       "<style scoped>\n",
       "    .dataframe tbody tr th:only-of-type {\n",
       "        vertical-align: middle;\n",
       "    }\n",
       "\n",
       "    .dataframe tbody tr th {\n",
       "        vertical-align: top;\n",
       "    }\n",
       "\n",
       "    .dataframe thead th {\n",
       "        text-align: right;\n",
       "    }\n",
       "</style>\n",
       "<table border=\"1\" class=\"dataframe\">\n",
       "  <thead>\n",
       "    <tr style=\"text-align: right;\">\n",
       "      <th></th>\n",
       "      <th>date</th>\n",
       "      <th>status</th>\n",
       "      <th>fulfilment</th>\n",
       "      <th>sales channel</th>\n",
       "      <th>category</th>\n",
       "      <th>size</th>\n",
       "      <th>courier status</th>\n",
       "      <th>qty</th>\n",
       "      <th>amount</th>\n",
       "      <th>ship-city</th>\n",
       "      <th>ship-state</th>\n",
       "      <th>month</th>\n",
       "    </tr>\n",
       "  </thead>\n",
       "  <tbody>\n",
       "    <tr>\n",
       "      <th>0</th>\n",
       "      <td>2022-04-30</td>\n",
       "      <td>Cancelled</td>\n",
       "      <td>Merchant</td>\n",
       "      <td>Amazon.in</td>\n",
       "      <td>Set</td>\n",
       "      <td>S</td>\n",
       "      <td>NaN</td>\n",
       "      <td>0</td>\n",
       "      <td>647.62</td>\n",
       "      <td>MUMBAI</td>\n",
       "      <td>MAHARASHTRA</td>\n",
       "      <td>April</td>\n",
       "    </tr>\n",
       "    <tr>\n",
       "      <th>1</th>\n",
       "      <td>2022-04-30</td>\n",
       "      <td>Shipped - Delivered to Buyer</td>\n",
       "      <td>Merchant</td>\n",
       "      <td>Amazon.in</td>\n",
       "      <td>kurta</td>\n",
       "      <td>3XL</td>\n",
       "      <td>Shipped</td>\n",
       "      <td>1</td>\n",
       "      <td>406.00</td>\n",
       "      <td>BENGALURU</td>\n",
       "      <td>KARNATAKA</td>\n",
       "      <td>April</td>\n",
       "    </tr>\n",
       "    <tr>\n",
       "      <th>2</th>\n",
       "      <td>2022-04-30</td>\n",
       "      <td>Shipped</td>\n",
       "      <td>Amazon</td>\n",
       "      <td>Amazon.in</td>\n",
       "      <td>kurta</td>\n",
       "      <td>XL</td>\n",
       "      <td>Shipped</td>\n",
       "      <td>1</td>\n",
       "      <td>329.00</td>\n",
       "      <td>NAVI MUMBAI</td>\n",
       "      <td>MAHARASHTRA</td>\n",
       "      <td>April</td>\n",
       "    </tr>\n",
       "    <tr>\n",
       "      <th>3</th>\n",
       "      <td>2022-04-30</td>\n",
       "      <td>Cancelled</td>\n",
       "      <td>Merchant</td>\n",
       "      <td>Amazon.in</td>\n",
       "      <td>Western Dress</td>\n",
       "      <td>L</td>\n",
       "      <td>NaN</td>\n",
       "      <td>0</td>\n",
       "      <td>753.33</td>\n",
       "      <td>PUDUCHERRY</td>\n",
       "      <td>PUDUCHERRY</td>\n",
       "      <td>April</td>\n",
       "    </tr>\n",
       "    <tr>\n",
       "      <th>4</th>\n",
       "      <td>2022-04-30</td>\n",
       "      <td>Shipped</td>\n",
       "      <td>Amazon</td>\n",
       "      <td>Amazon.in</td>\n",
       "      <td>Top</td>\n",
       "      <td>3XL</td>\n",
       "      <td>Shipped</td>\n",
       "      <td>1</td>\n",
       "      <td>574.00</td>\n",
       "      <td>CHENNAI</td>\n",
       "      <td>TAMIL NADU</td>\n",
       "      <td>April</td>\n",
       "    </tr>\n",
       "  </tbody>\n",
       "</table>\n",
       "</div>"
      ],
      "text/plain": [
       "        date                        status fulfilment sales channel   \\\n",
       "0 2022-04-30                     Cancelled   Merchant      Amazon.in   \n",
       "1 2022-04-30  Shipped - Delivered to Buyer   Merchant      Amazon.in   \n",
       "2 2022-04-30                       Shipped     Amazon      Amazon.in   \n",
       "3 2022-04-30                     Cancelled   Merchant      Amazon.in   \n",
       "4 2022-04-30                       Shipped     Amazon      Amazon.in   \n",
       "\n",
       "        category size courier status  qty  amount    ship-city   ship-state  \\\n",
       "0            Set    S            NaN    0  647.62       MUMBAI  MAHARASHTRA   \n",
       "1          kurta  3XL        Shipped    1  406.00    BENGALURU    KARNATAKA   \n",
       "2          kurta   XL        Shipped    1  329.00  NAVI MUMBAI  MAHARASHTRA   \n",
       "3  Western Dress    L            NaN    0  753.33   PUDUCHERRY   PUDUCHERRY   \n",
       "4            Top  3XL        Shipped    1  574.00      CHENNAI   TAMIL NADU   \n",
       "\n",
       "   month  \n",
       "0  April  \n",
       "1  April  \n",
       "2  April  \n",
       "3  April  \n",
       "4  April  "
      ]
     },
     "execution_count": 42,
     "metadata": {},
     "output_type": "execute_result"
    }
   ],
   "source": [
    "df.head()"
   ]
  },
  {
   "cell_type": "code",
   "execution_count": 43,
   "metadata": {
    "colab": {
     "base_uri": "https://localhost:8080/"
    },
    "id": "i9Sr6ys422FT",
    "outputId": "d103aefe-7a7e-4cd8-bf50-d6dd07363324"
   },
   "outputs": [
    {
     "data": {
      "text/plain": [
       "array([nan, 'Shipped', 'Cancelled', 'Unshipped'], dtype=object)"
      ]
     },
     "execution_count": 43,
     "metadata": {},
     "output_type": "execute_result"
    }
   ],
   "source": [
    "df['courier status'].unique()"
   ]
  },
  {
   "cell_type": "code",
   "execution_count": 44,
   "metadata": {
    "id": "C3aJxvGP27WM"
   },
   "outputs": [],
   "source": [
    "df1=df[['status','courier status']].value_counts()"
   ]
  },
  {
   "cell_type": "code",
   "execution_count": 45,
   "metadata": {
    "colab": {
     "base_uri": "https://localhost:8080/"
    },
    "id": "cUn2uPB05qPv",
    "outputId": "963aae14-ea51-48f7-b0ee-ac98df51c73f"
   },
   "outputs": [
    {
     "data": {
      "text/plain": [
       "status                       \n",
       "Shipped                          77804\n",
       "Shipped - Delivered to Buyer     28769\n",
       "Cancelled                        18332\n",
       "Shipped - Returned to Seller      1953\n",
       "Shipped - Picked Up                973\n",
       "Pending                            658\n",
       "Pending - Waiting for Pick Up      281\n",
       "Shipped - Returning to Seller      145\n",
       "Shipped - Out for Delivery          35\n",
       "Shipped - Rejected by Buyer         11\n",
       "Shipping                             8\n",
       "Shipped - Lost in Transit            5\n",
       "Shipped - Damaged                    1\n",
       "Name: count, dtype: int64"
      ]
     },
     "execution_count": 45,
     "metadata": {},
     "output_type": "execute_result"
    }
   ],
   "source": [
    "df[['status']].value_counts()"
   ]
  },
  {
   "cell_type": "code",
   "execution_count": 46,
   "metadata": {
    "colab": {
     "base_uri": "https://localhost:8080/"
    },
    "id": "PXDDJnEz3X-4",
    "outputId": "e0bb8a7b-e9be-4d78-8a39-ea01b8332379"
   },
   "outputs": [
    {
     "data": {
      "text/plain": [
       "courier status\n",
       "Shipped      109487\n",
       "Unshipped      6681\n",
       "Cancelled      5935\n",
       "Name: count, dtype: int64"
      ]
     },
     "execution_count": 46,
     "metadata": {},
     "output_type": "execute_result"
    }
   ],
   "source": [
    "df['courier status'].value_counts()"
   ]
  },
  {
   "cell_type": "code",
   "execution_count": 47,
   "metadata": {
    "id": "l3y02N9b5cXP"
   },
   "outputs": [],
   "source": [
    "df['courier status']=df['courier status'].fillna('Cancelled')"
   ]
  },
  {
   "cell_type": "code",
   "execution_count": 48,
   "metadata": {
    "colab": {
     "base_uri": "https://localhost:8080/"
    },
    "id": "8l8mC4Kr7hgT",
    "outputId": "6d1b419d-c39b-4c0d-c064-30bfb0c040a3"
   },
   "outputs": [
    {
     "data": {
      "text/plain": [
       "courier status\n",
       "Shipped      109487\n",
       "Cancelled     12807\n",
       "Unshipped      6681\n",
       "Name: count, dtype: int64"
      ]
     },
     "execution_count": 48,
     "metadata": {},
     "output_type": "execute_result"
    }
   ],
   "source": [
    "df['courier status'].value_counts()"
   ]
  },
  {
   "cell_type": "code",
   "execution_count": 49,
   "metadata": {
    "colab": {
     "base_uri": "https://localhost:8080/"
    },
    "id": "FxSajTn38Dup",
    "outputId": "af7461a5-2a52-4b9d-c718-b53330fd3782"
   },
   "outputs": [
    {
     "data": {
      "text/plain": [
       "date                 0\n",
       "status               0\n",
       "fulfilment           0\n",
       "sales channel        0\n",
       "category             0\n",
       "size                 0\n",
       "courier status       0\n",
       "qty                  0\n",
       "amount            7795\n",
       "ship-city           33\n",
       "ship-state          33\n",
       "month                0\n",
       "dtype: int64"
      ]
     },
     "execution_count": 49,
     "metadata": {},
     "output_type": "execute_result"
    }
   ],
   "source": [
    "df.isna().sum()"
   ]
  },
  {
   "cell_type": "code",
   "execution_count": 50,
   "metadata": {
    "colab": {
     "base_uri": "https://localhost:8080/"
    },
    "id": "NMrKjenC8Jwi",
    "outputId": "693c72e2-a92e-4400-f1b2-d1723b65243d"
   },
   "outputs": [
    {
     "data": {
      "text/plain": [
       "np.float64(648.5614647631621)"
      ]
     },
     "execution_count": 50,
     "metadata": {},
     "output_type": "execute_result"
    }
   ],
   "source": [
    "df.amount.mean()"
   ]
  },
  {
   "cell_type": "code",
   "execution_count": 51,
   "metadata": {
    "colab": {
     "base_uri": "https://localhost:8080/"
    },
    "id": "p_WFRY2i8OTC",
    "outputId": "e498bfd7-32c3-40d6-de65-44570c2c4efb"
   },
   "outputs": [
    {
     "data": {
      "text/plain": [
       "np.float64(605.0)"
      ]
     },
     "execution_count": 51,
     "metadata": {},
     "output_type": "execute_result"
    }
   ],
   "source": [
    "df.amount.median()"
   ]
  },
  {
   "cell_type": "code",
   "execution_count": 52,
   "metadata": {
    "colab": {
     "base_uri": "https://localhost:8080/"
    },
    "id": "JJCZIK4L8hrp",
    "outputId": "c883d81f-f6a1-44f3-c208-35ead4801fcf"
   },
   "outputs": [
    {
     "data": {
      "text/plain": [
       "0    399.0\n",
       "Name: amount, dtype: float64"
      ]
     },
     "execution_count": 52,
     "metadata": {},
     "output_type": "execute_result"
    }
   ],
   "source": [
    "df.amount.mode()"
   ]
  },
  {
   "cell_type": "code",
   "execution_count": 53,
   "metadata": {
    "colab": {
     "base_uri": "https://localhost:8080/",
     "height": 635
    },
    "id": "NqX71_Kx8bAG",
    "outputId": "bea60d39-5520-4de4-8f9c-0c42fdf063be"
   },
   "outputs": [
    {
     "data": {
      "text/plain": [
       "(array([-2000.,     0.,  2000.,  4000.,  6000.]),\n",
       " [Text(-2000.0, 0, '−2000'),\n",
       "  Text(0.0, 0, '0'),\n",
       "  Text(2000.0, 0, '2000'),\n",
       "  Text(4000.0, 0, '4000'),\n",
       "  Text(6000.0, 0, '6000')])"
      ]
     },
     "execution_count": 53,
     "metadata": {},
     "output_type": "execute_result"
    },
    {
     "data": {
      "text/plain": [
       "<Figure size 1000x600 with 0 Axes>"
      ]
     },
     "metadata": {},
     "output_type": "display_data"
    },
    {
     "data": {
      "image/png": "[encoded data removed]",
      "text/plain": [
       "<Figure size 500x500 with 6 Axes>"
      ]
     },
     "metadata": {},
     "output_type": "display_data"
    }
   ],
   "source": [
    "# to check the outliers in the data\n",
    "plt.figure(figsize=(10, 6))\n",
    "sns.pairplot(df)\n",
    "plt.xticks(rotation=90)  # use the parameter for good view"
   ]
  },
  {
   "cell_type": "code",
   "execution_count": 54,
   "metadata": {
    "colab": {
     "base_uri": "https://localhost:8080/"
    },
    "id": "g4-rxFyKJQvl",
    "outputId": "f7c8171e-b523-4612-fc77-73a7c74bb9b2"
   },
   "outputs": [
    {
     "data": {
      "text/plain": [
       "month\n",
       "April    35030\n",
       "May      28182\n",
       "June     24546\n",
       "March     5175\n",
       "2         5046\n",
       "1         4802\n",
       "8         4740\n",
       "7         4503\n",
       "9         4496\n",
       "10        4211\n",
       "12        4133\n",
       "11        4111\n",
       "Name: count, dtype: int64"
      ]
     },
     "execution_count": 54,
     "metadata": {},
     "output_type": "execute_result"
    }
   ],
   "source": [
    "df.month.value_counts()"
   ]
  },
  {
   "cell_type": "code",
   "execution_count": 55,
   "metadata": {
    "id": "kW37cQe9Jab7"
   },
   "outputs": [],
   "source": [
    "df['month']=df['month'].replace({\"1\":\"January\",\"2\":\"February\",\"7\":\"July\",\"8\":\"August\",\"9\":\"September\",\"10\":\"October\",\"11\":\"November\",\"12\":\"December\"})"
   ]
  },
  {
   "cell_type": "code",
   "execution_count": 56,
   "metadata": {
    "id": "rOlEKC279zdH"
   },
   "outputs": [],
   "source": [
    "df['amount']=df['amount'].fillna(df.amount.median())"
   ]
  },
  {
   "cell_type": "code",
   "execution_count": 57,
   "metadata": {
    "colab": {
     "base_uri": "https://localhost:8080/",
     "height": 831
    },
    "id": "VVjSlke6KXAG",
    "outputId": "f896210a-f145-4aa6-8a4b-126f9e335999"
   },
   "outputs": [
    {
     "data": {
      "text/plain": [
       "([0, 1, 2, 3, 4, 5, 6, 7, 8, 9, 10, 11],\n",
       " [Text(0, 0, 'April'),\n",
       "  Text(1, 0, 'December'),\n",
       "  Text(2, 0, 'November'),\n",
       "  Text(3, 0, 'October'),\n",
       "  Text(4, 0, 'September'),\n",
       "  Text(5, 0, 'August'),\n",
       "  Text(6, 0, 'July'),\n",
       "  Text(7, 0, 'June'),\n",
       "  Text(8, 0, 'May'),\n",
       "  Text(9, 0, 'March'),\n",
       "  Text(10, 0, 'February'),\n",
       "  Text(11, 0, 'January')])"
      ]
     },
     "execution_count": 57,
     "metadata": {},
     "output_type": "execute_result"
    },
    {
     "data": {
      "image/png": "[encoded data removed]",
      "text/plain": [
       "<Figure size 1000x600 with 1 Axes>"
      ]
     },
     "metadata": {},
     "output_type": "display_data"
    }
   ],
   "source": [
    "# to check outliers in te data as you can see in April and May month some outliers are there\n",
    "plt.figure(figsize=(10,6))\n",
    "sns.boxplot(x='month', y='amount', data=df)\n",
    "plt.xticks(rotation=90)"
   ]
  },
  {
   "cell_type": "code",
   "execution_count": 58,
   "metadata": {
    "id": "B_rF68iALoTw"
   },
   "outputs": [],
   "source": [
    "df['year']=df['date'].dt.year"
   ]
  },
  {
   "cell_type": "code",
   "execution_count": 59,
   "metadata": {
    "colab": {
     "base_uri": "https://localhost:8080/"
    },
    "id": "4inTIcAwLxz-",
    "outputId": "3d5df0f2-cd58-4254-a421-005e4da21613"
   },
   "outputs": [
    {
     "data": {
      "text/plain": [
       "year\n",
       "2022    128975\n",
       "Name: count, dtype: int64"
      ]
     },
     "execution_count": 59,
     "metadata": {},
     "output_type": "execute_result"
    }
   ],
   "source": [
    "df.year.value_counts()"
   ]
  },
  {
   "cell_type": "code",
   "execution_count": 60,
   "metadata": {
    "colab": {
     "base_uri": "https://localhost:8080/"
    },
    "id": "VGfmNn8oMJAO",
    "outputId": "857873e7-0d46-4c31-ce4f-f1fc7c329f6d"
   },
   "outputs": [
    {
     "data": {
      "text/plain": [
       "1"
      ]
     },
     "execution_count": 60,
     "metadata": {},
     "output_type": "execute_result"
    }
   ],
   "source": [
    "df.year.nunique()"
   ]
  },
  {
   "cell_type": "code",
   "execution_count": 61,
   "metadata": {
    "colab": {
     "base_uri": "https://localhost:8080/"
    },
    "id": "f9kTINnl-EZh",
    "outputId": "673e5be6-2f00-4206-8b7b-c716d2c9c828"
   },
   "outputs": [
    {
     "data": {
      "text/plain": [
       "date               0\n",
       "status             0\n",
       "fulfilment         0\n",
       "sales channel      0\n",
       "category           0\n",
       "size               0\n",
       "courier status     0\n",
       "qty                0\n",
       "amount             0\n",
       "ship-city         33\n",
       "ship-state        33\n",
       "month              0\n",
       "year               0\n",
       "dtype: int64"
      ]
     },
     "execution_count": 61,
     "metadata": {},
     "output_type": "execute_result"
    }
   ],
   "source": [
    "df.isna().sum()"
   ]
  },
  {
   "cell_type": "code",
   "execution_count": 62,
   "metadata": {
    "colab": {
     "base_uri": "https://localhost:8080/",
     "height": 206
    },
    "id": "YH86em3r-O2q",
    "outputId": "b2fbd822-9d6d-40f9-d84a-00089494dade"
   },
   "outputs": [
    {
     "data": {
      "text/html": [
       "<div>\n",
       "<style scoped>\n",
       "    .dataframe tbody tr th:only-of-type {\n",
       "        vertical-align: middle;\n",
       "    }\n",
       "\n",
       "    .dataframe tbody tr th {\n",
       "        vertical-align: top;\n",
       "    }\n",
       "\n",
       "    .dataframe thead th {\n",
       "        text-align: right;\n",
       "    }\n",
       "</style>\n",
       "<table border=\"1\" class=\"dataframe\">\n",
       "  <thead>\n",
       "    <tr style=\"text-align: right;\">\n",
       "      <th></th>\n",
       "      <th>date</th>\n",
       "      <th>status</th>\n",
       "      <th>fulfilment</th>\n",
       "      <th>sales channel</th>\n",
       "      <th>category</th>\n",
       "      <th>size</th>\n",
       "      <th>courier status</th>\n",
       "      <th>qty</th>\n",
       "      <th>amount</th>\n",
       "      <th>ship-city</th>\n",
       "      <th>ship-state</th>\n",
       "      <th>month</th>\n",
       "      <th>year</th>\n",
       "    </tr>\n",
       "  </thead>\n",
       "  <tbody>\n",
       "    <tr>\n",
       "      <th>0</th>\n",
       "      <td>2022-04-30</td>\n",
       "      <td>Cancelled</td>\n",
       "      <td>Merchant</td>\n",
       "      <td>Amazon.in</td>\n",
       "      <td>Set</td>\n",
       "      <td>S</td>\n",
       "      <td>Cancelled</td>\n",
       "      <td>0</td>\n",
       "      <td>647.62</td>\n",
       "      <td>MUMBAI</td>\n",
       "      <td>MAHARASHTRA</td>\n",
       "      <td>April</td>\n",
       "      <td>2022</td>\n",
       "    </tr>\n",
       "    <tr>\n",
       "      <th>1</th>\n",
       "      <td>2022-04-30</td>\n",
       "      <td>Shipped - Delivered to Buyer</td>\n",
       "      <td>Merchant</td>\n",
       "      <td>Amazon.in</td>\n",
       "      <td>kurta</td>\n",
       "      <td>3XL</td>\n",
       "      <td>Shipped</td>\n",
       "      <td>1</td>\n",
       "      <td>406.00</td>\n",
       "      <td>BENGALURU</td>\n",
       "      <td>KARNATAKA</td>\n",
       "      <td>April</td>\n",
       "      <td>2022</td>\n",
       "    </tr>\n",
       "    <tr>\n",
       "      <th>2</th>\n",
       "      <td>2022-04-30</td>\n",
       "      <td>Shipped</td>\n",
       "      <td>Amazon</td>\n",
       "      <td>Amazon.in</td>\n",
       "      <td>kurta</td>\n",
       "      <td>XL</td>\n",
       "      <td>Shipped</td>\n",
       "      <td>1</td>\n",
       "      <td>329.00</td>\n",
       "      <td>NAVI MUMBAI</td>\n",
       "      <td>MAHARASHTRA</td>\n",
       "      <td>April</td>\n",
       "      <td>2022</td>\n",
       "    </tr>\n",
       "    <tr>\n",
       "      <th>3</th>\n",
       "      <td>2022-04-30</td>\n",
       "      <td>Cancelled</td>\n",
       "      <td>Merchant</td>\n",
       "      <td>Amazon.in</td>\n",
       "      <td>Western Dress</td>\n",
       "      <td>L</td>\n",
       "      <td>Cancelled</td>\n",
       "      <td>0</td>\n",
       "      <td>753.33</td>\n",
       "      <td>PUDUCHERRY</td>\n",
       "      <td>PUDUCHERRY</td>\n",
       "      <td>April</td>\n",
       "      <td>2022</td>\n",
       "    </tr>\n",
       "    <tr>\n",
       "      <th>4</th>\n",
       "      <td>2022-04-30</td>\n",
       "      <td>Shipped</td>\n",
       "      <td>Amazon</td>\n",
       "      <td>Amazon.in</td>\n",
       "      <td>Top</td>\n",
       "      <td>3XL</td>\n",
       "      <td>Shipped</td>\n",
       "      <td>1</td>\n",
       "      <td>574.00</td>\n",
       "      <td>CHENNAI</td>\n",
       "      <td>TAMIL NADU</td>\n",
       "      <td>April</td>\n",
       "      <td>2022</td>\n",
       "    </tr>\n",
       "  </tbody>\n",
       "</table>\n",
       "</div>"
      ],
      "text/plain": [
       "        date                        status fulfilment sales channel   \\\n",
       "0 2022-04-30                     Cancelled   Merchant      Amazon.in   \n",
       "1 2022-04-30  Shipped - Delivered to Buyer   Merchant      Amazon.in   \n",
       "2 2022-04-30                       Shipped     Amazon      Amazon.in   \n",
       "3 2022-04-30                     Cancelled   Merchant      Amazon.in   \n",
       "4 2022-04-30                       Shipped     Amazon      Amazon.in   \n",
       "\n",
       "        category size courier status  qty  amount    ship-city   ship-state  \\\n",
       "0            Set    S      Cancelled    0  647.62       MUMBAI  MAHARASHTRA   \n",
       "1          kurta  3XL        Shipped    1  406.00    BENGALURU    KARNATAKA   \n",
       "2          kurta   XL        Shipped    1  329.00  NAVI MUMBAI  MAHARASHTRA   \n",
       "3  Western Dress    L      Cancelled    0  753.33   PUDUCHERRY   PUDUCHERRY   \n",
       "4            Top  3XL        Shipped    1  574.00      CHENNAI   TAMIL NADU   \n",
       "\n",
       "   month  year  \n",
       "0  April  2022  \n",
       "1  April  2022  \n",
       "2  April  2022  \n",
       "3  April  2022  \n",
       "4  April  2022  "
      ]
     },
     "execution_count": 62,
     "metadata": {},
     "output_type": "execute_result"
    }
   ],
   "source": [
    "df.head()"
   ]
  },
  {
   "cell_type": "code",
   "execution_count": 63,
   "metadata": {
    "colab": {
     "base_uri": "https://localhost:8080/"
    },
    "id": "S9c5kClK-SmS",
    "outputId": "130b575c-2669-44bd-c7ce-2b5d1cb38434"
   },
   "outputs": [
    {
     "data": {
      "text/plain": [
       "ship-state\n",
       "MAHARASHTRA      22260\n",
       "KARNATAKA        17326\n",
       "TAMIL NADU       11483\n",
       "TELANGANA        11330\n",
       "UTTAR PRADESH    10638\n",
       "                 ...  \n",
       "Nagaland             1\n",
       "Mizoram              1\n",
       "bihar                1\n",
       "rajsthan             1\n",
       "Rajsthan             1\n",
       "Name: count, Length: 69, dtype: int64"
      ]
     },
     "execution_count": 63,
     "metadata": {},
     "output_type": "execute_result"
    }
   ],
   "source": [
    "df['ship-state'].value_counts()"
   ]
  },
  {
   "cell_type": "code",
   "execution_count": 64,
   "metadata": {
    "id": "MhM9_vF2_T3y"
   },
   "outputs": [],
   "source": [
    "# to drop null values from data\n",
    "df = df.dropna()\n"
   ]
  },
  {
   "cell_type": "code",
   "execution_count": 65,
   "metadata": {
    "colab": {
     "base_uri": "https://localhost:8080/"
    },
    "id": "VoHoCYJd_pnl",
    "outputId": "48f335e1-5ff7-4880-a97a-f80a3c94995a"
   },
   "outputs": [
    {
     "data": {
      "text/plain": [
       "date              0\n",
       "status            0\n",
       "fulfilment        0\n",
       "sales channel     0\n",
       "category          0\n",
       "size              0\n",
       "courier status    0\n",
       "qty               0\n",
       "amount            0\n",
       "ship-city         0\n",
       "ship-state        0\n",
       "month             0\n",
       "year              0\n",
       "dtype: int64"
      ]
     },
     "execution_count": 65,
     "metadata": {},
     "output_type": "execute_result"
    }
   ],
   "source": [
    "df.isna().sum()"
   ]
  },
  {
   "cell_type": "code",
   "execution_count": 66,
   "metadata": {
    "colab": {
     "base_uri": "https://localhost:8080/"
    },
    "id": "QJz_BYxh_wsl",
    "outputId": "02c80d2d-f40b-4d3e-b2d6-05f3ea6ee44b"
   },
   "outputs": [
    {
     "name": "stdout",
     "output_type": "stream",
     "text": [
      "<class 'pandas.core.frame.DataFrame'>\n",
      "Index: 128942 entries, 0 to 128974\n",
      "Data columns (total 13 columns):\n",
      " #   Column          Non-Null Count   Dtype         \n",
      "---  ------          --------------   -----         \n",
      " 0   date            128942 non-null  datetime64[ns]\n",
      " 1   status          128942 non-null  object        \n",
      " 2   fulfilment      128942 non-null  object        \n",
      " 3   sales channel   128942 non-null  object        \n",
      " 4   category        128942 non-null  object        \n",
      " 5   size            128942 non-null  object        \n",
      " 6   courier status  128942 non-null  object        \n",
      " 7   qty             128942 non-null  int64         \n",
      " 8   amount          128942 non-null  float64       \n",
      " 9   ship-city       128942 non-null  object        \n",
      " 10  ship-state      128942 non-null  object        \n",
      " 11  month           128942 non-null  object        \n",
      " 12  year            128942 non-null  int32         \n",
      "dtypes: datetime64[ns](1), float64(1), int32(1), int64(1), object(9)\n",
      "memory usage: 13.3+ MB\n"
     ]
    }
   ],
   "source": [
    "df.info()"
   ]
  },
  {
   "cell_type": "code",
   "execution_count": 67,
   "metadata": {
    "colab": {
     "base_uri": "https://localhost:8080/",
     "height": 206
    },
    "id": "I6cGxHfeAW86",
    "outputId": "31f790f2-6670-4040-c90d-40e4c417e0dd"
   },
   "outputs": [
    {
     "data": {
      "text/html": [
       "<div>\n",
       "<style scoped>\n",
       "    .dataframe tbody tr th:only-of-type {\n",
       "        vertical-align: middle;\n",
       "    }\n",
       "\n",
       "    .dataframe tbody tr th {\n",
       "        vertical-align: top;\n",
       "    }\n",
       "\n",
       "    .dataframe thead th {\n",
       "        text-align: right;\n",
       "    }\n",
       "</style>\n",
       "<table border=\"1\" class=\"dataframe\">\n",
       "  <thead>\n",
       "    <tr style=\"text-align: right;\">\n",
       "      <th></th>\n",
       "      <th>date</th>\n",
       "      <th>status</th>\n",
       "      <th>fulfilment</th>\n",
       "      <th>sales channel</th>\n",
       "      <th>category</th>\n",
       "      <th>size</th>\n",
       "      <th>courier status</th>\n",
       "      <th>qty</th>\n",
       "      <th>amount</th>\n",
       "      <th>ship-city</th>\n",
       "      <th>ship-state</th>\n",
       "      <th>month</th>\n",
       "      <th>year</th>\n",
       "    </tr>\n",
       "  </thead>\n",
       "  <tbody>\n",
       "    <tr>\n",
       "      <th>0</th>\n",
       "      <td>2022-04-30</td>\n",
       "      <td>Cancelled</td>\n",
       "      <td>Merchant</td>\n",
       "      <td>Amazon.in</td>\n",
       "      <td>Set</td>\n",
       "      <td>S</td>\n",
       "      <td>Cancelled</td>\n",
       "      <td>0</td>\n",
       "      <td>647.62</td>\n",
       "      <td>MUMBAI</td>\n",
       "      <td>MAHARASHTRA</td>\n",
       "      <td>April</td>\n",
       "      <td>2022</td>\n",
       "    </tr>\n",
       "    <tr>\n",
       "      <th>1</th>\n",
       "      <td>2022-04-30</td>\n",
       "      <td>Shipped - Delivered to Buyer</td>\n",
       "      <td>Merchant</td>\n",
       "      <td>Amazon.in</td>\n",
       "      <td>kurta</td>\n",
       "      <td>3XL</td>\n",
       "      <td>Shipped</td>\n",
       "      <td>1</td>\n",
       "      <td>406.00</td>\n",
       "      <td>BENGALURU</td>\n",
       "      <td>KARNATAKA</td>\n",
       "      <td>April</td>\n",
       "      <td>2022</td>\n",
       "    </tr>\n",
       "    <tr>\n",
       "      <th>2</th>\n",
       "      <td>2022-04-30</td>\n",
       "      <td>Shipped</td>\n",
       "      <td>Amazon</td>\n",
       "      <td>Amazon.in</td>\n",
       "      <td>kurta</td>\n",
       "      <td>XL</td>\n",
       "      <td>Shipped</td>\n",
       "      <td>1</td>\n",
       "      <td>329.00</td>\n",
       "      <td>NAVI MUMBAI</td>\n",
       "      <td>MAHARASHTRA</td>\n",
       "      <td>April</td>\n",
       "      <td>2022</td>\n",
       "    </tr>\n",
       "    <tr>\n",
       "      <th>3</th>\n",
       "      <td>2022-04-30</td>\n",
       "      <td>Cancelled</td>\n",
       "      <td>Merchant</td>\n",
       "      <td>Amazon.in</td>\n",
       "      <td>Western Dress</td>\n",
       "      <td>L</td>\n",
       "      <td>Cancelled</td>\n",
       "      <td>0</td>\n",
       "      <td>753.33</td>\n",
       "      <td>PUDUCHERRY</td>\n",
       "      <td>PUDUCHERRY</td>\n",
       "      <td>April</td>\n",
       "      <td>2022</td>\n",
       "    </tr>\n",
       "    <tr>\n",
       "      <th>4</th>\n",
       "      <td>2022-04-30</td>\n",
       "      <td>Shipped</td>\n",
       "      <td>Amazon</td>\n",
       "      <td>Amazon.in</td>\n",
       "      <td>Top</td>\n",
       "      <td>3XL</td>\n",
       "      <td>Shipped</td>\n",
       "      <td>1</td>\n",
       "      <td>574.00</td>\n",
       "      <td>CHENNAI</td>\n",
       "      <td>TAMIL NADU</td>\n",
       "      <td>April</td>\n",
       "      <td>2022</td>\n",
       "    </tr>\n",
       "  </tbody>\n",
       "</table>\n",
       "</div>"
      ],
      "text/plain": [
       "        date                        status fulfilment sales channel   \\\n",
       "0 2022-04-30                     Cancelled   Merchant      Amazon.in   \n",
       "1 2022-04-30  Shipped - Delivered to Buyer   Merchant      Amazon.in   \n",
       "2 2022-04-30                       Shipped     Amazon      Amazon.in   \n",
       "3 2022-04-30                     Cancelled   Merchant      Amazon.in   \n",
       "4 2022-04-30                       Shipped     Amazon      Amazon.in   \n",
       "\n",
       "        category size courier status  qty  amount    ship-city   ship-state  \\\n",
       "0            Set    S      Cancelled    0  647.62       MUMBAI  MAHARASHTRA   \n",
       "1          kurta  3XL        Shipped    1  406.00    BENGALURU    KARNATAKA   \n",
       "2          kurta   XL        Shipped    1  329.00  NAVI MUMBAI  MAHARASHTRA   \n",
       "3  Western Dress    L      Cancelled    0  753.33   PUDUCHERRY   PUDUCHERRY   \n",
       "4            Top  3XL        Shipped    1  574.00      CHENNAI   TAMIL NADU   \n",
       "\n",
       "   month  year  \n",
       "0  April  2022  \n",
       "1  April  2022  \n",
       "2  April  2022  \n",
       "3  April  2022  \n",
       "4  April  2022  "
      ]
     },
     "execution_count": 67,
     "metadata": {},
     "output_type": "execute_result"
    }
   ],
   "source": [
    "df.head()"
   ]
  },
  {
   "cell_type": "code",
   "execution_count": 69,
   "metadata": {
    "id": "uCqJmaz6AdOi"
   },
   "outputs": [],
   "source": [
    "amazon_sales_df = df"
   ]
  },
  {
   "cell_type": "code",
   "execution_count": 70,
   "metadata": {
    "id": "3oOImeXzNb8w"
   },
   "outputs": [
    {
     "data": {
      "text/html": [
       "<div>\n",
       "<style scoped>\n",
       "    .dataframe tbody tr th:only-of-type {\n",
       "        vertical-align: middle;\n",
       "    }\n",
       "\n",
       "    .dataframe tbody tr th {\n",
       "        vertical-align: top;\n",
       "    }\n",
       "\n",
       "    .dataframe thead th {\n",
       "        text-align: right;\n",
       "    }\n",
       "</style>\n",
       "<table border=\"1\" class=\"dataframe\">\n",
       "  <thead>\n",
       "    <tr style=\"text-align: right;\">\n",
       "      <th></th>\n",
       "      <th>date</th>\n",
       "      <th>status</th>\n",
       "      <th>fulfilment</th>\n",
       "      <th>sales channel</th>\n",
       "      <th>category</th>\n",
       "      <th>size</th>\n",
       "      <th>courier status</th>\n",
       "      <th>qty</th>\n",
       "      <th>amount</th>\n",
       "      <th>ship-city</th>\n",
       "      <th>ship-state</th>\n",
       "      <th>month</th>\n",
       "      <th>year</th>\n",
       "    </tr>\n",
       "  </thead>\n",
       "  <tbody>\n",
       "    <tr>\n",
       "      <th>0</th>\n",
       "      <td>2022-04-30</td>\n",
       "      <td>Cancelled</td>\n",
       "      <td>Merchant</td>\n",
       "      <td>Amazon.in</td>\n",
       "      <td>Set</td>\n",
       "      <td>S</td>\n",
       "      <td>Cancelled</td>\n",
       "      <td>0</td>\n",
       "      <td>647.62</td>\n",
       "      <td>MUMBAI</td>\n",
       "      <td>MAHARASHTRA</td>\n",
       "      <td>April</td>\n",
       "      <td>2022</td>\n",
       "    </tr>\n",
       "    <tr>\n",
       "      <th>1</th>\n",
       "      <td>2022-04-30</td>\n",
       "      <td>Shipped - Delivered to Buyer</td>\n",
       "      <td>Merchant</td>\n",
       "      <td>Amazon.in</td>\n",
       "      <td>kurta</td>\n",
       "      <td>3XL</td>\n",
       "      <td>Shipped</td>\n",
       "      <td>1</td>\n",
       "      <td>406.00</td>\n",
       "      <td>BENGALURU</td>\n",
       "      <td>KARNATAKA</td>\n",
       "      <td>April</td>\n",
       "      <td>2022</td>\n",
       "    </tr>\n",
       "    <tr>\n",
       "      <th>2</th>\n",
       "      <td>2022-04-30</td>\n",
       "      <td>Shipped</td>\n",
       "      <td>Amazon</td>\n",
       "      <td>Amazon.in</td>\n",
       "      <td>kurta</td>\n",
       "      <td>XL</td>\n",
       "      <td>Shipped</td>\n",
       "      <td>1</td>\n",
       "      <td>329.00</td>\n",
       "      <td>NAVI MUMBAI</td>\n",
       "      <td>MAHARASHTRA</td>\n",
       "      <td>April</td>\n",
       "      <td>2022</td>\n",
       "    </tr>\n",
       "    <tr>\n",
       "      <th>3</th>\n",
       "      <td>2022-04-30</td>\n",
       "      <td>Cancelled</td>\n",
       "      <td>Merchant</td>\n",
       "      <td>Amazon.in</td>\n",
       "      <td>Western Dress</td>\n",
       "      <td>L</td>\n",
       "      <td>Cancelled</td>\n",
       "      <td>0</td>\n",
       "      <td>753.33</td>\n",
       "      <td>PUDUCHERRY</td>\n",
       "      <td>PUDUCHERRY</td>\n",
       "      <td>April</td>\n",
       "      <td>2022</td>\n",
       "    </tr>\n",
       "    <tr>\n",
       "      <th>4</th>\n",
       "      <td>2022-04-30</td>\n",
       "      <td>Shipped</td>\n",
       "      <td>Amazon</td>\n",
       "      <td>Amazon.in</td>\n",
       "      <td>Top</td>\n",
       "      <td>3XL</td>\n",
       "      <td>Shipped</td>\n",
       "      <td>1</td>\n",
       "      <td>574.00</td>\n",
       "      <td>CHENNAI</td>\n",
       "      <td>TAMIL NADU</td>\n",
       "      <td>April</td>\n",
       "      <td>2022</td>\n",
       "    </tr>\n",
       "    <tr>\n",
       "      <th>...</th>\n",
       "      <td>...</td>\n",
       "      <td>...</td>\n",
       "      <td>...</td>\n",
       "      <td>...</td>\n",
       "      <td>...</td>\n",
       "      <td>...</td>\n",
       "      <td>...</td>\n",
       "      <td>...</td>\n",
       "      <td>...</td>\n",
       "      <td>...</td>\n",
       "      <td>...</td>\n",
       "      <td>...</td>\n",
       "      <td>...</td>\n",
       "    </tr>\n",
       "    <tr>\n",
       "      <th>128970</th>\n",
       "      <td>2022-05-31</td>\n",
       "      <td>Shipped</td>\n",
       "      <td>Amazon</td>\n",
       "      <td>Amazon.in</td>\n",
       "      <td>kurta</td>\n",
       "      <td>XL</td>\n",
       "      <td>Shipped</td>\n",
       "      <td>1</td>\n",
       "      <td>517.00</td>\n",
       "      <td>HYDERABAD</td>\n",
       "      <td>TELANGANA</td>\n",
       "      <td>May</td>\n",
       "      <td>2022</td>\n",
       "    </tr>\n",
       "    <tr>\n",
       "      <th>128971</th>\n",
       "      <td>2022-05-31</td>\n",
       "      <td>Shipped</td>\n",
       "      <td>Amazon</td>\n",
       "      <td>Amazon.in</td>\n",
       "      <td>Set</td>\n",
       "      <td>M</td>\n",
       "      <td>Shipped</td>\n",
       "      <td>1</td>\n",
       "      <td>999.00</td>\n",
       "      <td>GURUGRAM</td>\n",
       "      <td>HARYANA</td>\n",
       "      <td>May</td>\n",
       "      <td>2022</td>\n",
       "    </tr>\n",
       "    <tr>\n",
       "      <th>128972</th>\n",
       "      <td>2022-05-31</td>\n",
       "      <td>Shipped</td>\n",
       "      <td>Amazon</td>\n",
       "      <td>Amazon.in</td>\n",
       "      <td>Western Dress</td>\n",
       "      <td>XXL</td>\n",
       "      <td>Shipped</td>\n",
       "      <td>1</td>\n",
       "      <td>690.00</td>\n",
       "      <td>HYDERABAD</td>\n",
       "      <td>TELANGANA</td>\n",
       "      <td>May</td>\n",
       "      <td>2022</td>\n",
       "    </tr>\n",
       "    <tr>\n",
       "      <th>128973</th>\n",
       "      <td>2022-05-31</td>\n",
       "      <td>Shipped</td>\n",
       "      <td>Amazon</td>\n",
       "      <td>Amazon.in</td>\n",
       "      <td>Set</td>\n",
       "      <td>XS</td>\n",
       "      <td>Shipped</td>\n",
       "      <td>1</td>\n",
       "      <td>1199.00</td>\n",
       "      <td>Halol</td>\n",
       "      <td>Gujarat</td>\n",
       "      <td>May</td>\n",
       "      <td>2022</td>\n",
       "    </tr>\n",
       "    <tr>\n",
       "      <th>128974</th>\n",
       "      <td>2022-05-31</td>\n",
       "      <td>Shipped</td>\n",
       "      <td>Amazon</td>\n",
       "      <td>Amazon.in</td>\n",
       "      <td>Set</td>\n",
       "      <td>S</td>\n",
       "      <td>Shipped</td>\n",
       "      <td>1</td>\n",
       "      <td>696.00</td>\n",
       "      <td>Raipur</td>\n",
       "      <td>CHHATTISGARH</td>\n",
       "      <td>May</td>\n",
       "      <td>2022</td>\n",
       "    </tr>\n",
       "  </tbody>\n",
       "</table>\n",
       "<p>128942 rows × 13 columns</p>\n",
       "</div>"
      ],
      "text/plain": [
       "             date                        status fulfilment sales channel   \\\n",
       "0      2022-04-30                     Cancelled   Merchant      Amazon.in   \n",
       "1      2022-04-30  Shipped - Delivered to Buyer   Merchant      Amazon.in   \n",
       "2      2022-04-30                       Shipped     Amazon      Amazon.in   \n",
       "3      2022-04-30                     Cancelled   Merchant      Amazon.in   \n",
       "4      2022-04-30                       Shipped     Amazon      Amazon.in   \n",
       "...           ...                           ...        ...            ...   \n",
       "128970 2022-05-31                       Shipped     Amazon      Amazon.in   \n",
       "128971 2022-05-31                       Shipped     Amazon      Amazon.in   \n",
       "128972 2022-05-31                       Shipped     Amazon      Amazon.in   \n",
       "128973 2022-05-31                       Shipped     Amazon      Amazon.in   \n",
       "128974 2022-05-31                       Shipped     Amazon      Amazon.in   \n",
       "\n",
       "             category size courier status  qty   amount    ship-city  \\\n",
       "0                 Set    S      Cancelled    0   647.62       MUMBAI   \n",
       "1               kurta  3XL        Shipped    1   406.00    BENGALURU   \n",
       "2               kurta   XL        Shipped    1   329.00  NAVI MUMBAI   \n",
       "3       Western Dress    L      Cancelled    0   753.33   PUDUCHERRY   \n",
       "4                 Top  3XL        Shipped    1   574.00      CHENNAI   \n",
       "...               ...  ...            ...  ...      ...          ...   \n",
       "128970          kurta   XL        Shipped    1   517.00    HYDERABAD   \n",
       "128971            Set    M        Shipped    1   999.00     GURUGRAM   \n",
       "128972  Western Dress  XXL        Shipped    1   690.00    HYDERABAD   \n",
       "128973            Set   XS        Shipped    1  1199.00        Halol   \n",
       "128974            Set    S        Shipped    1   696.00       Raipur   \n",
       "\n",
       "          ship-state  month  year  \n",
       "0        MAHARASHTRA  April  2022  \n",
       "1          KARNATAKA  April  2022  \n",
       "2        MAHARASHTRA  April  2022  \n",
       "3         PUDUCHERRY  April  2022  \n",
       "4         TAMIL NADU  April  2022  \n",
       "...              ...    ...   ...  \n",
       "128970     TELANGANA    May  2022  \n",
       "128971       HARYANA    May  2022  \n",
       "128972     TELANGANA    May  2022  \n",
       "128973       Gujarat    May  2022  \n",
       "128974  CHHATTISGARH    May  2022  \n",
       "\n",
       "[128942 rows x 13 columns]"
      ]
     },
     "execution_count": 70,
     "metadata": {},
     "output_type": "execute_result"
    }
   ],
   "source": [
    "amazon_sales_df"
   ]
  },
  {
   "cell_type": "code",
   "execution_count": 74,
   "metadata": {},
   "outputs": [],
   "source": [
    "#calculation of total sales Amount(INR)\n",
    "Total_sales_amount = amazon_sales_df['amount'].sum()"
   ]
  },
  {
   "cell_type": "code",
   "execution_count": 75,
   "metadata": {},
   "outputs": [
    {
     "data": {
      "text/plain": [
       "np.float64(83288772.30000001)"
      ]
     },
     "execution_count": 75,
     "metadata": {},
     "output_type": "execute_result"
    }
   ],
   "source": [
    "Total_sales_amount"
   ]
  },
  {
   "cell_type": "code",
   "execution_count": 85,
   "metadata": {},
   "outputs": [
    {
     "data": {
      "text/plain": [
       "array(['Set', 'kurta', 'Western Dress', 'Top', 'Ethnic Dress', 'Bottom',\n",
       "       'Saree', 'Blouse', 'Dupatta'], dtype=object)"
      ]
     },
     "execution_count": 85,
     "metadata": {},
     "output_type": "execute_result"
    }
   ],
   "source": [
    "amazon_sales_df['category'].unique()"
   ]
  },
  {
   "cell_type": "code",
   "execution_count": 86,
   "metadata": {},
   "outputs": [
    {
     "data": {
      "text/plain": [
       "category\n",
       "Set              50272\n",
       "kurta            49859\n",
       "Western Dress    15499\n",
       "Top              10620\n",
       "Ethnic Dress      1159\n",
       "Blouse             926\n",
       "Bottom             440\n",
       "Saree              164\n",
       "Dupatta              3\n",
       "Name: count, dtype: int64"
      ]
     },
     "execution_count": 86,
     "metadata": {},
     "output_type": "execute_result"
    }
   ],
   "source": [
    "amazon_sales_df['category'].value_counts()"
   ]
  },
  {
   "cell_type": "code",
   "execution_count": 81,
   "metadata": {},
   "outputs": [],
   "source": [
    "import seaborn as sns"
   ]
  },
  {
   "cell_type": "code",
   "execution_count": 121,
   "metadata": {},
   "outputs": [
    {
     "data": {
      "image/png": "[encoded data removed]",
      "text/plain": [
       "<Figure size 1000x600 with 1 Axes>"
      ]
     },
     "metadata": {},
     "output_type": "display_data"
    }
   ],
   "source": [
    "# Create a count plot for the 'Category' column\n",
    "plt.figure(figsize=(10, 6))\n",
    "sns.countplot(x='category',hue='category', data=amazon_sales_df,palette=\"viridis\" )\n",
    "plt.title('Count of Sales by Category')\n",
    "plt.xlabel('Category')\n",
    "plt.ylabel('Count' )\n",
    "plt.grid(True,axis = 'y')\n",
    "plt.show()"
   ]
  },
  {
   "cell_type": "code",
   "execution_count": 88,
   "metadata": {},
   "outputs": [
    {
     "data": {
      "text/plain": [
       "array(['S', '3XL', 'XL', 'L', 'XXL', 'XS', '6XL', 'M', '4XL', '5XL',\n",
       "       'Free'], dtype=object)"
      ]
     },
     "execution_count": 88,
     "metadata": {},
     "output_type": "execute_result"
    }
   ],
   "source": [
    "amazon_sales_df['size'].unique()"
   ]
  },
  {
   "cell_type": "code",
   "execution_count": 89,
   "metadata": {},
   "outputs": [
    {
     "data": {
      "text/plain": [
       "size\n",
       "M       22704\n",
       "L       22123\n",
       "XL      20872\n",
       "XXL     18093\n",
       "S       17084\n",
       "3XL     14815\n",
       "XS      11160\n",
       "6XL       738\n",
       "5XL       550\n",
       "4XL       425\n",
       "Free      378\n",
       "Name: count, dtype: int64"
      ]
     },
     "execution_count": 89,
     "metadata": {},
     "output_type": "execute_result"
    }
   ],
   "source": [
    "amazon_sales_df['size'].value_counts()"
   ]
  },
  {
   "cell_type": "code",
   "execution_count": 120,
   "metadata": {},
   "outputs": [
    {
     "name": "stderr",
     "output_type": "stream",
     "text": [
      "C:\\Users\\gauri\\AppData\\Local\\Temp\\ipykernel_16440\\1990750694.py:7: UserWarning: No artists with labels found to put in legend.  Note that artists whose label start with an underscore are ignored when legend() is called with no argument.\n",
      "  plt.legend()\n"
     ]
    },
    {
     "data": {
      "image/png": "[encoded data removed]",
      "text/plain": [
       "<Figure size 1000x600 with 1 Axes>"
      ]
     },
     "metadata": {},
     "output_type": "display_data"
    }
   ],
   "source": [
    "# Create a count plot for the 'Size' column\n",
    "plt.figure(figsize=(10, 6))\n",
    "sns.countplot(x='size',hue='size', data=amazon_sales_df,palette=\"viridis\")\n",
    "plt.title('Count of size by sizes')\n",
    "plt.xlabel('Sizes')\n",
    "plt.ylabel('Count')\n",
    "plt.legend()\n",
    "plt.grid(True,axis = 'y')\n",
    "plt.show()"
   ]
  },
  {
   "cell_type": "code",
   "execution_count": 93,
   "metadata": {},
   "outputs": [
    {
     "data": {
      "text/plain": [
       "array(['Merchant', 'Amazon'], dtype=object)"
      ]
     },
     "execution_count": 93,
     "metadata": {},
     "output_type": "execute_result"
    }
   ],
   "source": [
    "amazon_sales_df['fulfilment'].unique()"
   ]
  },
  {
   "cell_type": "code",
   "execution_count": 94,
   "metadata": {},
   "outputs": [
    {
     "data": {
      "text/plain": [
       "fulfilment\n",
       "Amazon      89678\n",
       "Merchant    39264\n",
       "Name: count, dtype: int64"
      ]
     },
     "execution_count": 94,
     "metadata": {},
     "output_type": "execute_result"
    }
   ],
   "source": [
    "amazon_sales_df['fulfilment'].value_counts()"
   ]
  },
  {
   "cell_type": "code",
   "execution_count": 109,
   "metadata": {},
   "outputs": [
    {
     "data": {
      "image/png": "[encoded data removed]",
      "text/plain": [
       "<Figure size 1000x300 with 1 Axes>"
      ]
     },
     "metadata": {},
     "output_type": "display_data"
    }
   ],
   "source": [
    "# Create the count plot\n",
    "plt.figure(figsize=(10, 3))\n",
    "sns.countplot(y='fulfilment',hue='fulfilment', data=amazon_sales_df, palette=\"viridis\")\n",
    "plt.title('Total Sales by Fulfilment')\n",
    "plt.xlabel('Count')\n",
    "plt.ylabel('Fulfilment')\n",
    "plt.legend( ['Amazon', 'Merchant'])\n",
    "\n",
    "plt.show()"
   ]
  },
  {
   "cell_type": "code",
   "execution_count": 128,
   "metadata": {},
   "outputs": [
    {
     "data": {
      "text/html": [
       "<div>\n",
       "<style scoped>\n",
       "    .dataframe tbody tr th:only-of-type {\n",
       "        vertical-align: middle;\n",
       "    }\n",
       "\n",
       "    .dataframe tbody tr th {\n",
       "        vertical-align: top;\n",
       "    }\n",
       "\n",
       "    .dataframe thead th {\n",
       "        text-align: right;\n",
       "    }\n",
       "</style>\n",
       "<table border=\"1\" class=\"dataframe\">\n",
       "  <thead>\n",
       "    <tr style=\"text-align: right;\">\n",
       "      <th></th>\n",
       "      <th>date</th>\n",
       "      <th>status</th>\n",
       "      <th>fulfilment</th>\n",
       "      <th>sales channel</th>\n",
       "      <th>category</th>\n",
       "      <th>size</th>\n",
       "      <th>courier status</th>\n",
       "      <th>qty</th>\n",
       "      <th>amount</th>\n",
       "      <th>ship-city</th>\n",
       "      <th>ship-state</th>\n",
       "      <th>month</th>\n",
       "      <th>year</th>\n",
       "    </tr>\n",
       "  </thead>\n",
       "  <tbody>\n",
       "    <tr>\n",
       "      <th>0</th>\n",
       "      <td>2022-04-30</td>\n",
       "      <td>Cancelled</td>\n",
       "      <td>Merchant</td>\n",
       "      <td>Amazon.in</td>\n",
       "      <td>Set</td>\n",
       "      <td>S</td>\n",
       "      <td>Cancelled</td>\n",
       "      <td>0</td>\n",
       "      <td>647.62</td>\n",
       "      <td>MUMBAI</td>\n",
       "      <td>MAHARASHTRA</td>\n",
       "      <td>April</td>\n",
       "      <td>2022</td>\n",
       "    </tr>\n",
       "    <tr>\n",
       "      <th>1</th>\n",
       "      <td>2022-04-30</td>\n",
       "      <td>Shipped - Delivered to Buyer</td>\n",
       "      <td>Merchant</td>\n",
       "      <td>Amazon.in</td>\n",
       "      <td>kurta</td>\n",
       "      <td>3XL</td>\n",
       "      <td>Shipped</td>\n",
       "      <td>1</td>\n",
       "      <td>406.00</td>\n",
       "      <td>BENGALURU</td>\n",
       "      <td>KARNATAKA</td>\n",
       "      <td>April</td>\n",
       "      <td>2022</td>\n",
       "    </tr>\n",
       "    <tr>\n",
       "      <th>2</th>\n",
       "      <td>2022-04-30</td>\n",
       "      <td>Shipped</td>\n",
       "      <td>Amazon</td>\n",
       "      <td>Amazon.in</td>\n",
       "      <td>kurta</td>\n",
       "      <td>XL</td>\n",
       "      <td>Shipped</td>\n",
       "      <td>1</td>\n",
       "      <td>329.00</td>\n",
       "      <td>NAVI MUMBAI</td>\n",
       "      <td>MAHARASHTRA</td>\n",
       "      <td>April</td>\n",
       "      <td>2022</td>\n",
       "    </tr>\n",
       "    <tr>\n",
       "      <th>3</th>\n",
       "      <td>2022-04-30</td>\n",
       "      <td>Cancelled</td>\n",
       "      <td>Merchant</td>\n",
       "      <td>Amazon.in</td>\n",
       "      <td>Western Dress</td>\n",
       "      <td>L</td>\n",
       "      <td>Cancelled</td>\n",
       "      <td>0</td>\n",
       "      <td>753.33</td>\n",
       "      <td>PUDUCHERRY</td>\n",
       "      <td>PUDUCHERRY</td>\n",
       "      <td>April</td>\n",
       "      <td>2022</td>\n",
       "    </tr>\n",
       "    <tr>\n",
       "      <th>4</th>\n",
       "      <td>2022-04-30</td>\n",
       "      <td>Shipped</td>\n",
       "      <td>Amazon</td>\n",
       "      <td>Amazon.in</td>\n",
       "      <td>Top</td>\n",
       "      <td>3XL</td>\n",
       "      <td>Shipped</td>\n",
       "      <td>1</td>\n",
       "      <td>574.00</td>\n",
       "      <td>CHENNAI</td>\n",
       "      <td>TAMIL NADU</td>\n",
       "      <td>April</td>\n",
       "      <td>2022</td>\n",
       "    </tr>\n",
       "    <tr>\n",
       "      <th>...</th>\n",
       "      <td>...</td>\n",
       "      <td>...</td>\n",
       "      <td>...</td>\n",
       "      <td>...</td>\n",
       "      <td>...</td>\n",
       "      <td>...</td>\n",
       "      <td>...</td>\n",
       "      <td>...</td>\n",
       "      <td>...</td>\n",
       "      <td>...</td>\n",
       "      <td>...</td>\n",
       "      <td>...</td>\n",
       "      <td>...</td>\n",
       "    </tr>\n",
       "    <tr>\n",
       "      <th>128970</th>\n",
       "      <td>2022-05-31</td>\n",
       "      <td>Shipped</td>\n",
       "      <td>Amazon</td>\n",
       "      <td>Amazon.in</td>\n",
       "      <td>kurta</td>\n",
       "      <td>XL</td>\n",
       "      <td>Shipped</td>\n",
       "      <td>1</td>\n",
       "      <td>517.00</td>\n",
       "      <td>HYDERABAD</td>\n",
       "      <td>TELANGANA</td>\n",
       "      <td>May</td>\n",
       "      <td>2022</td>\n",
       "    </tr>\n",
       "    <tr>\n",
       "      <th>128971</th>\n",
       "      <td>2022-05-31</td>\n",
       "      <td>Shipped</td>\n",
       "      <td>Amazon</td>\n",
       "      <td>Amazon.in</td>\n",
       "      <td>Set</td>\n",
       "      <td>M</td>\n",
       "      <td>Shipped</td>\n",
       "      <td>1</td>\n",
       "      <td>999.00</td>\n",
       "      <td>GURUGRAM</td>\n",
       "      <td>HARYANA</td>\n",
       "      <td>May</td>\n",
       "      <td>2022</td>\n",
       "    </tr>\n",
       "    <tr>\n",
       "      <th>128972</th>\n",
       "      <td>2022-05-31</td>\n",
       "      <td>Shipped</td>\n",
       "      <td>Amazon</td>\n",
       "      <td>Amazon.in</td>\n",
       "      <td>Western Dress</td>\n",
       "      <td>XXL</td>\n",
       "      <td>Shipped</td>\n",
       "      <td>1</td>\n",
       "      <td>690.00</td>\n",
       "      <td>HYDERABAD</td>\n",
       "      <td>TELANGANA</td>\n",
       "      <td>May</td>\n",
       "      <td>2022</td>\n",
       "    </tr>\n",
       "    <tr>\n",
       "      <th>128973</th>\n",
       "      <td>2022-05-31</td>\n",
       "      <td>Shipped</td>\n",
       "      <td>Amazon</td>\n",
       "      <td>Amazon.in</td>\n",
       "      <td>Set</td>\n",
       "      <td>XS</td>\n",
       "      <td>Shipped</td>\n",
       "      <td>1</td>\n",
       "      <td>1199.00</td>\n",
       "      <td>Halol</td>\n",
       "      <td>Gujarat</td>\n",
       "      <td>May</td>\n",
       "      <td>2022</td>\n",
       "    </tr>\n",
       "    <tr>\n",
       "      <th>128974</th>\n",
       "      <td>2022-05-31</td>\n",
       "      <td>Shipped</td>\n",
       "      <td>Amazon</td>\n",
       "      <td>Amazon.in</td>\n",
       "      <td>Set</td>\n",
       "      <td>S</td>\n",
       "      <td>Shipped</td>\n",
       "      <td>1</td>\n",
       "      <td>696.00</td>\n",
       "      <td>Raipur</td>\n",
       "      <td>CHHATTISGARH</td>\n",
       "      <td>May</td>\n",
       "      <td>2022</td>\n",
       "    </tr>\n",
       "  </tbody>\n",
       "</table>\n",
       "<p>128942 rows × 13 columns</p>\n",
       "</div>"
      ],
      "text/plain": [
       "             date                        status fulfilment sales channel   \\\n",
       "0      2022-04-30                     Cancelled   Merchant      Amazon.in   \n",
       "1      2022-04-30  Shipped - Delivered to Buyer   Merchant      Amazon.in   \n",
       "2      2022-04-30                       Shipped     Amazon      Amazon.in   \n",
       "3      2022-04-30                     Cancelled   Merchant      Amazon.in   \n",
       "4      2022-04-30                       Shipped     Amazon      Amazon.in   \n",
       "...           ...                           ...        ...            ...   \n",
       "128970 2022-05-31                       Shipped     Amazon      Amazon.in   \n",
       "128971 2022-05-31                       Shipped     Amazon      Amazon.in   \n",
       "128972 2022-05-31                       Shipped     Amazon      Amazon.in   \n",
       "128973 2022-05-31                       Shipped     Amazon      Amazon.in   \n",
       "128974 2022-05-31                       Shipped     Amazon      Amazon.in   \n",
       "\n",
       "             category size courier status  qty   amount    ship-city  \\\n",
       "0                 Set    S      Cancelled    0   647.62       MUMBAI   \n",
       "1               kurta  3XL        Shipped    1   406.00    BENGALURU   \n",
       "2               kurta   XL        Shipped    1   329.00  NAVI MUMBAI   \n",
       "3       Western Dress    L      Cancelled    0   753.33   PUDUCHERRY   \n",
       "4                 Top  3XL        Shipped    1   574.00      CHENNAI   \n",
       "...               ...  ...            ...  ...      ...          ...   \n",
       "128970          kurta   XL        Shipped    1   517.00    HYDERABAD   \n",
       "128971            Set    M        Shipped    1   999.00     GURUGRAM   \n",
       "128972  Western Dress  XXL        Shipped    1   690.00    HYDERABAD   \n",
       "128973            Set   XS        Shipped    1  1199.00        Halol   \n",
       "128974            Set    S        Shipped    1   696.00       Raipur   \n",
       "\n",
       "          ship-state  month  year  \n",
       "0        MAHARASHTRA  April  2022  \n",
       "1          KARNATAKA  April  2022  \n",
       "2        MAHARASHTRA  April  2022  \n",
       "3         PUDUCHERRY  April  2022  \n",
       "4         TAMIL NADU  April  2022  \n",
       "...              ...    ...   ...  \n",
       "128970     TELANGANA    May  2022  \n",
       "128971       HARYANA    May  2022  \n",
       "128972     TELANGANA    May  2022  \n",
       "128973       Gujarat    May  2022  \n",
       "128974  CHHATTISGARH    May  2022  \n",
       "\n",
       "[128942 rows x 13 columns]"
      ]
     },
     "execution_count": 128,
     "metadata": {},
     "output_type": "execute_result"
    }
   ],
   "source": [
    "amazon_sales_df"
   ]
  },
  {
   "cell_type": "code",
   "execution_count": 129,
   "metadata": {},
   "outputs": [],
   "source": [
    "# Sum of total sales by month\n",
    "monthly_sales = amazon_sales_df.groupby('month')['amount'].sum().reset_index()"
   ]
  },
  {
   "cell_type": "code",
   "execution_count": 130,
   "metadata": {},
   "outputs": [
    {
     "data": {
      "text/html": [
       "<div>\n",
       "<style scoped>\n",
       "    .dataframe tbody tr th:only-of-type {\n",
       "        vertical-align: middle;\n",
       "    }\n",
       "\n",
       "    .dataframe tbody tr th {\n",
       "        vertical-align: top;\n",
       "    }\n",
       "\n",
       "    .dataframe thead th {\n",
       "        text-align: right;\n",
       "    }\n",
       "</style>\n",
       "<table border=\"1\" class=\"dataframe\">\n",
       "  <thead>\n",
       "    <tr style=\"text-align: right;\">\n",
       "      <th></th>\n",
       "      <th>month</th>\n",
       "      <th>amount</th>\n",
       "    </tr>\n",
       "  </thead>\n",
       "  <tbody>\n",
       "    <tr>\n",
       "      <th>0</th>\n",
       "      <td>April</td>\n",
       "      <td>21806427.00</td>\n",
       "    </tr>\n",
       "    <tr>\n",
       "      <th>1</th>\n",
       "      <td>August</td>\n",
       "      <td>3062162.76</td>\n",
       "    </tr>\n",
       "    <tr>\n",
       "      <th>2</th>\n",
       "      <td>December</td>\n",
       "      <td>2691887.78</td>\n",
       "    </tr>\n",
       "    <tr>\n",
       "      <th>3</th>\n",
       "      <td>February</td>\n",
       "      <td>3179806.41</td>\n",
       "    </tr>\n",
       "    <tr>\n",
       "      <th>4</th>\n",
       "      <td>January</td>\n",
       "      <td>3066601.33</td>\n",
       "    </tr>\n",
       "    <tr>\n",
       "      <th>5</th>\n",
       "      <td>July</td>\n",
       "      <td>2945796.37</td>\n",
       "    </tr>\n",
       "    <tr>\n",
       "      <th>6</th>\n",
       "      <td>June</td>\n",
       "      <td>16147183.88</td>\n",
       "    </tr>\n",
       "    <tr>\n",
       "      <th>7</th>\n",
       "      <td>March</td>\n",
       "      <td>3254289.01</td>\n",
       "    </tr>\n",
       "    <tr>\n",
       "      <th>8</th>\n",
       "      <td>May</td>\n",
       "      <td>18801861.32</td>\n",
       "    </tr>\n",
       "    <tr>\n",
       "      <th>9</th>\n",
       "      <td>November</td>\n",
       "      <td>2696453.13</td>\n",
       "    </tr>\n",
       "    <tr>\n",
       "      <th>10</th>\n",
       "      <td>October</td>\n",
       "      <td>2741032.85</td>\n",
       "    </tr>\n",
       "    <tr>\n",
       "      <th>11</th>\n",
       "      <td>September</td>\n",
       "      <td>2895270.46</td>\n",
       "    </tr>\n",
       "  </tbody>\n",
       "</table>\n",
       "</div>"
      ],
      "text/plain": [
       "        month       amount\n",
       "0       April  21806427.00\n",
       "1      August   3062162.76\n",
       "2    December   2691887.78\n",
       "3    February   3179806.41\n",
       "4     January   3066601.33\n",
       "5        July   2945796.37\n",
       "6        June  16147183.88\n",
       "7       March   3254289.01\n",
       "8         May  18801861.32\n",
       "9    November   2696453.13\n",
       "10    October   2741032.85\n",
       "11  September   2895270.46"
      ]
     },
     "execution_count": 130,
     "metadata": {},
     "output_type": "execute_result"
    }
   ],
   "source": [
    "monthly_sales"
   ]
  },
  {
   "cell_type": "code",
   "execution_count": 132,
   "metadata": {},
   "outputs": [
    {
     "data": {
      "image/png": "[encoded data removed]",
      "text/plain": [
       "<Figure size 1200x600 with 1 Axes>"
      ]
     },
     "metadata": {},
     "output_type": "display_data"
    }
   ],
   "source": [
    "plt.figure(figsize=(12, 6))\n",
    "plt.plot(monthly_sales['month'], monthly_sales['amount'], marker='o', linestyle='-', color='b')\n",
    "\n",
    "# Adding titles and labels\n",
    "plt.title('Total Sales by Month')\n",
    "plt.xlabel('Month')\n",
    "plt.ylabel('Amount (in billion)')\n",
    "plt.grid(True)\n",
    "plt.tight_layout()\n",
    "plt.show()\n",
    "\n"
   ]
  },
  {
   "cell_type": "code",
   "execution_count": 133,
   "metadata": {},
   "outputs": [],
   "source": [
    "# Sum of total sales by states\n",
    "state_sales = amazon_sales_df.groupby('ship-state')['amount'].sum().reset_index()"
   ]
  },
  {
   "cell_type": "code",
   "execution_count": 134,
   "metadata": {},
   "outputs": [
    {
     "data": {
      "text/html": [
       "<div>\n",
       "<style scoped>\n",
       "    .dataframe tbody tr th:only-of-type {\n",
       "        vertical-align: middle;\n",
       "    }\n",
       "\n",
       "    .dataframe tbody tr th {\n",
       "        vertical-align: top;\n",
       "    }\n",
       "\n",
       "    .dataframe thead th {\n",
       "        text-align: right;\n",
       "    }\n",
       "</style>\n",
       "<table border=\"1\" class=\"dataframe\">\n",
       "  <thead>\n",
       "    <tr style=\"text-align: right;\">\n",
       "      <th></th>\n",
       "      <th>ship-state</th>\n",
       "      <th>amount</th>\n",
       "    </tr>\n",
       "  </thead>\n",
       "  <tbody>\n",
       "    <tr>\n",
       "      <th>0</th>\n",
       "      <td>ANDAMAN &amp; NICOBAR</td>\n",
       "      <td>167193.62</td>\n",
       "    </tr>\n",
       "    <tr>\n",
       "      <th>1</th>\n",
       "      <td>ANDHRA PRADESH</td>\n",
       "      <td>3446706.72</td>\n",
       "    </tr>\n",
       "    <tr>\n",
       "      <th>2</th>\n",
       "      <td>APO</td>\n",
       "      <td>605.00</td>\n",
       "    </tr>\n",
       "    <tr>\n",
       "      <th>3</th>\n",
       "      <td>AR</td>\n",
       "      <td>493.00</td>\n",
       "    </tr>\n",
       "    <tr>\n",
       "      <th>4</th>\n",
       "      <td>ARUNACHAL PRADESH</td>\n",
       "      <td>99470.00</td>\n",
       "    </tr>\n",
       "    <tr>\n",
       "      <th>...</th>\n",
       "      <td>...</td>\n",
       "      <td>...</td>\n",
       "    </tr>\n",
       "    <tr>\n",
       "      <th>64</th>\n",
       "      <td>goa</td>\n",
       "      <td>2467.00</td>\n",
       "    </tr>\n",
       "    <tr>\n",
       "      <th>65</th>\n",
       "      <td>orissa</td>\n",
       "      <td>597.00</td>\n",
       "    </tr>\n",
       "    <tr>\n",
       "      <th>66</th>\n",
       "      <td>punjab</td>\n",
       "      <td>9227.00</td>\n",
       "    </tr>\n",
       "    <tr>\n",
       "      <th>67</th>\n",
       "      <td>rajasthan</td>\n",
       "      <td>3946.00</td>\n",
       "    </tr>\n",
       "    <tr>\n",
       "      <th>68</th>\n",
       "      <td>rajsthan</td>\n",
       "      <td>521.00</td>\n",
       "    </tr>\n",
       "  </tbody>\n",
       "</table>\n",
       "<p>69 rows × 2 columns</p>\n",
       "</div>"
      ],
      "text/plain": [
       "            ship-state      amount\n",
       "0   ANDAMAN & NICOBAR    167193.62\n",
       "1       ANDHRA PRADESH  3446706.72\n",
       "2                  APO      605.00\n",
       "3                   AR      493.00\n",
       "4    ARUNACHAL PRADESH    99470.00\n",
       "..                 ...         ...\n",
       "64                 goa     2467.00\n",
       "65              orissa      597.00\n",
       "66              punjab     9227.00\n",
       "67           rajasthan     3946.00\n",
       "68            rajsthan      521.00\n",
       "\n",
       "[69 rows x 2 columns]"
      ]
     },
     "execution_count": 134,
     "metadata": {},
     "output_type": "execute_result"
    }
   ],
   "source": [
    "state_sales"
   ]
  },
  {
   "cell_type": "code",
   "execution_count": 136,
   "metadata": {},
   "outputs": [],
   "source": [
    "#Top 10 states by sales\n",
    "top_10_states_sales = state_sales.sort_values('amount',ascending = False).head(10)"
   ]
  },
  {
   "cell_type": "code",
   "execution_count": 137,
   "metadata": {},
   "outputs": [
    {
     "data": {
      "text/html": [
       "<div>\n",
       "<style scoped>\n",
       "    .dataframe tbody tr th:only-of-type {\n",
       "        vertical-align: middle;\n",
       "    }\n",
       "\n",
       "    .dataframe tbody tr th {\n",
       "        vertical-align: top;\n",
       "    }\n",
       "\n",
       "    .dataframe thead th {\n",
       "        text-align: right;\n",
       "    }\n",
       "</style>\n",
       "<table border=\"1\" class=\"dataframe\">\n",
       "  <thead>\n",
       "    <tr style=\"text-align: right;\">\n",
       "      <th></th>\n",
       "      <th>ship-state</th>\n",
       "      <th>amount</th>\n",
       "    </tr>\n",
       "  </thead>\n",
       "  <tbody>\n",
       "    <tr>\n",
       "      <th>28</th>\n",
       "      <td>MAHARASHTRA</td>\n",
       "      <td>14053669.14</td>\n",
       "    </tr>\n",
       "    <tr>\n",
       "      <th>23</th>\n",
       "      <td>KARNATAKA</td>\n",
       "      <td>11044974.37</td>\n",
       "    </tr>\n",
       "    <tr>\n",
       "      <th>57</th>\n",
       "      <td>TELANGANA</td>\n",
       "      <td>7335880.65</td>\n",
       "    </tr>\n",
       "    <tr>\n",
       "      <th>59</th>\n",
       "      <td>UTTAR PRADESH</td>\n",
       "      <td>7234697.08</td>\n",
       "    </tr>\n",
       "    <tr>\n",
       "      <th>56</th>\n",
       "      <td>TAMIL NADU</td>\n",
       "      <td>6923420.11</td>\n",
       "    </tr>\n",
       "    <tr>\n",
       "      <th>14</th>\n",
       "      <td>DELHI</td>\n",
       "      <td>4470560.97</td>\n",
       "    </tr>\n",
       "    <tr>\n",
       "      <th>24</th>\n",
       "      <td>KERALA</td>\n",
       "      <td>4092797.58</td>\n",
       "    </tr>\n",
       "    <tr>\n",
       "      <th>61</th>\n",
       "      <td>WEST BENGAL</td>\n",
       "      <td>3759560.44</td>\n",
       "    </tr>\n",
       "    <tr>\n",
       "      <th>1</th>\n",
       "      <td>ANDHRA PRADESH</td>\n",
       "      <td>3446706.72</td>\n",
       "    </tr>\n",
       "    <tr>\n",
       "      <th>19</th>\n",
       "      <td>HARYANA</td>\n",
       "      <td>3019427.99</td>\n",
       "    </tr>\n",
       "  </tbody>\n",
       "</table>\n",
       "</div>"
      ],
      "text/plain": [
       "        ship-state       amount\n",
       "28     MAHARASHTRA  14053669.14\n",
       "23       KARNATAKA  11044974.37\n",
       "57       TELANGANA   7335880.65\n",
       "59   UTTAR PRADESH   7234697.08\n",
       "56      TAMIL NADU   6923420.11\n",
       "14           DELHI   4470560.97\n",
       "24          KERALA   4092797.58\n",
       "61     WEST BENGAL   3759560.44\n",
       "1   ANDHRA PRADESH   3446706.72\n",
       "19         HARYANA   3019427.99"
      ]
     },
     "execution_count": 137,
     "metadata": {},
     "output_type": "execute_result"
    }
   ],
   "source": [
    "top_10_states_sales"
   ]
  },
  {
   "cell_type": "code",
   "execution_count": 153,
   "metadata": {},
   "outputs": [
    {
     "data": {
      "image/png": "[encoded data removed]",
      "text/plain": [
       "<Figure size 1200x600 with 1 Axes>"
      ]
     },
     "metadata": {},
     "output_type": "display_data"
    }
   ],
   "source": [
    "plt.figure(figsize=(12, 6))\n",
    "sns.barplot(x='ship-state', y='amount',hue ='ship-state',data=top_10_states_sales, palette=\"viridis\")\n",
    "\n",
    "# Adding titles and labels\n",
    "plt.title('Total Sales by State')\n",
    "plt.xlabel('State')\n",
    "plt.ylabel('Amount (in million)')\n",
    "plt.grid(axis='y')\n",
    "\n",
    "# Rotating x-axis labels for better readability\n",
    "plt.xticks(rotation=45)\n",
    "plt.tight_layout()\n",
    "\n",
    "# Display the plot\n",
    "plt.show()\n",
    "\n",
    "\n"
   ]
  },
  {
   "cell_type": "code",
   "execution_count": null,
   "metadata": {},
   "outputs": [],
   "source": []
  }
 ],
 "metadata": {
  "colab": {
   "provenance": []
  },
  "kernelspec": {
   "display_name": "Python 3 (ipykernel)",
   "language": "python",
   "name": "python3"
  },
  "language_info": {
   "codemirror_mode": {
    "name": "ipython",
    "version": 3
   },
   "file_extension": ".py",
   "mimetype": "text/x-python",
   "name": "python",
   "nbconvert_exporter": "python",
   "pygments_lexer": "ipython3",
   "version": "3.12.4"
  }
 },
 "nbformat": 4,
 "nbformat_minor": 4
}
